{
 "cells": [
  {
   "cell_type": "code",
   "execution_count": 1,
   "id": "21747e23-367f-4c8e-a166-b3ed981235bd",
   "metadata": {},
   "outputs": [
    {
     "data": {
      "text/plain": [
       "('a4m2ub0iavflcl6s6e6rl4c712fptbvs', 1667080129, '2022-10-29 21:48:49')"
      ]
     },
     "execution_count": 1,
     "metadata": {},
     "output_type": "execute_result"
    }
   ],
   "source": [
    "from pyTigerGraph import TigerGraphConnection\n",
    "\n",
    "conn=TigerGraphConnection(\n",
    "    host=\"https://e6680e3bf2a74caf9955c0f6a65371da.i.tgcloud.io\",\n",
    "    graphname=\"snap_soc\",\n",
    "    gsqlSecret=\"s5lcvderlb0s74hhkcjrsq1mkqu4ps0i\"\n",
    ")\n",
    "conn.getToken(\"s5lcvderlb0s74hhkcjrsq1mkqu4ps0i\")"
   ]
  },
  {
   "cell_type": "code",
   "execution_count": 2,
   "id": "da6a5217-9c89-4de9-b3ee-566d1f68e078",
   "metadata": {},
   "outputs": [],
   "source": [
    "feat = conn.gds.featurizer()"
   ]
  },
  {
   "cell_type": "code",
   "execution_count": 3,
   "id": "303690fc-1397-4aa8-8f0f-c87b290a48ca",
   "metadata": {},
   "outputs": [
    {
     "name": "stdout",
     "output_type": "stream",
     "text": [
      "Available algorithms for category Centrality in the GDS (https://github.com/tigergraph/gsql-graph-algorithms):\n",
      "pagerank: \n",
      " global: \n",
      "  weighted: \n",
      "   Algorithm Name: tg_pagerank_wt\n",
      "   Algorithm Link: https://github.com/tigergraph/gsql-graph-algorithms/blob/master/algorithms/Centrality/pagerank/global/weighted/tg_pagerank_wt.gsql. \n",
      "  unweighted: \n",
      "   Algorithm Name: tg_pagerank\n",
      "   Algorithm Link: https://github.com/tigergraph/gsql-graph-algorithms/blob/master/algorithms/Centrality/pagerank/global/unweighted/tg_pagerank.gsql. \n",
      "article_rank: \n",
      " Algorithm Name: tg_article_rank\n",
      " Algorithm Link: https://github.com/tigergraph/gsql-graph-algorithms/blob/master/algorithms/Centrality/article_rank/tg_article_rank.gsql. \n",
      "Betweenness: \n",
      " Algorithm Name: tg_betweenness_cent\n",
      " Algorithm Link: https://github.com/tigergraph/gsql-graph-algorithms/blob/master/algorithms/Centrality/betweenness/tg_betweenness_cent.gsql. \n",
      "closeness: \n",
      " approximate: \n",
      "  Algorithm Name: tg_closeness_cent_approx\n",
      "  Algorithm Link: https://github.com/tigergraph/gsql-graph-algorithms/blob/master/algorithms/Centrality/closeness/approximate/tg_closeness_cent_approx.gsql. \n",
      " exact: \n",
      "  Algorithm Name: tg_closeness_cent\n",
      "  Algorithm Link: https://github.com/tigergraph/gsql-graph-algorithms/blob/master/algorithms/Centrality/closeness/exact/tg_closeness_cent.gsql. \n",
      "degree: \n",
      " Algorithm Name: tg_degree_cent\n",
      " Algorithm Link: https://github.com/tigergraph/gsql-graph-algorithms/blob/master/algorithms/Centrality/degree/tg_degree_cent.gsql. \n",
      "eigenvector: \n",
      " Algorithm Name: tg_eigenvector_cent\n",
      " Algorithm Link: https://github.com/tigergraph/gsql-graph-algorithms/blob/master/algorithms/Centrality/eigenvector/tg_eigenvector_cent.gsql. \n",
      "harmonic: \n",
      " Algorithm Name: tg_harmonic_cent\n",
      " Algorithm Link: https://github.com/tigergraph/gsql-graph-algorithms/blob/master/algorithms/Centrality/harmonic/tg_harmonic_cent.gsql. \n"
     ]
    }
   ],
   "source": [
    "feat.listAlgorithms(\"Centrality\")"
   ]
  },
  {
   "cell_type": "code",
   "execution_count": 4,
   "id": "68d64a00-21d1-467c-ab06-616850c1d704",
   "metadata": {},
   "outputs": [
    {
     "name": "stdout",
     "output_type": "stream",
     "text": [
      "Installing and optimizing the queries, it might take a minute\n"
     ]
    },
    {
     "data": {
      "text/plain": [
       "'tg_pagerank'"
      ]
     },
     "execution_count": 4,
     "metadata": {},
     "output_type": "execute_result"
    }
   ],
   "source": [
    "feat.installAlgorithm(\"tg_pagerank\")"
   ]
  },
  {
   "cell_type": "code",
   "execution_count": 8,
   "id": "1486a9d8-29be-4bfc-ad2d-2a99f3ab30a6",
   "metadata": {},
   "outputs": [
    {
     "data": {
      "text/plain": [
       "[{'@@top_scores_heap': [{'Vertex_ID': '18', 'score': 246.91843},\n",
       "   {'Vertex_ID': '737', 'score': 171.59535},\n",
       "   {'Vertex_ID': '118', 'score': 115.56512},\n",
       "   {'Vertex_ID': '1719', 'score': 113.15299},\n",
       "   {'Vertex_ID': '136', 'score': 108.19812},\n",
       "   {'Vertex_ID': '790', 'score': 107.18813},\n",
       "   {'Vertex_ID': '143', 'score': 106.54988},\n",
       "   {'Vertex_ID': '40', 'score': 99.41622},\n",
       "   {'Vertex_ID': '1619', 'score': 83.65746},\n",
       "   {'Vertex_ID': '725', 'score': 81.50207},\n",
       "   {'Vertex_ID': '849', 'score': 80.9827},\n",
       "   {'Vertex_ID': '401', 'score': 78.81845},\n",
       "   {'Vertex_ID': '27', 'score': 77.95305},\n",
       "   {'Vertex_ID': '1179', 'score': 77.55006},\n",
       "   {'Vertex_ID': '1401', 'score': 76.10583},\n",
       "   {'Vertex_ID': '77', 'score': 76.0685},\n",
       "   {'Vertex_ID': '1191', 'score': 75.09267},\n",
       "   {'Vertex_ID': '128', 'score': 74.45249},\n",
       "   {'Vertex_ID': '135', 'score': 74.38818},\n",
       "   {'Vertex_ID': '4415', 'score': 72.72481},\n",
       "   {'Vertex_ID': '918', 'score': 72.59766},\n",
       "   {'Vertex_ID': '1164', 'score': 71.69511},\n",
       "   {'Vertex_ID': '550', 'score': 69.83086},\n",
       "   {'Vertex_ID': '34', 'score': 69.05937},\n",
       "   {'Vertex_ID': '726', 'score': 68.34002},\n",
       "   {'Vertex_ID': '1029', 'score': 66.67783},\n",
       "   {'Vertex_ID': '1247', 'score': 66.3627},\n",
       "   {'Vertex_ID': '301', 'score': 65.99113},\n",
       "   {'Vertex_ID': '1621', 'score': 65.98448},\n",
       "   {'Vertex_ID': '28', 'score': 65.45912},\n",
       "   {'Vertex_ID': '1909', 'score': 64.63342},\n",
       "   {'Vertex_ID': '59', 'score': 64.39955},\n",
       "   {'Vertex_ID': '1', 'score': 63.38323},\n",
       "   {'Vertex_ID': '717', 'score': 62.7943},\n",
       "   {'Vertex_ID': '31', 'score': 61.58951},\n",
       "   {'Vertex_ID': '4969', 'score': 60.91116},\n",
       "   {'Vertex_ID': '1753', 'score': 60.37962},\n",
       "   {'Vertex_ID': '735', 'score': 60.31534},\n",
       "   {'Vertex_ID': '843', 'score': 59.97133},\n",
       "   {'Vertex_ID': '2227', 'score': 59.03214},\n",
       "   {'Vertex_ID': '546', 'score': 58.55421},\n",
       "   {'Vertex_ID': '1918', 'score': 58.48786},\n",
       "   {'Vertex_ID': '418', 'score': 57.23237},\n",
       "   {'Vertex_ID': '1398', 'score': 56.33029},\n",
       "   {'Vertex_ID': '1606', 'score': 56.00543},\n",
       "   {'Vertex_ID': '1623', 'score': 55.93275},\n",
       "   {'Vertex_ID': '738', 'score': 55.36411},\n",
       "   {'Vertex_ID': '4416', 'score': 54.4683},\n",
       "   {'Vertex_ID': '74', 'score': 54.38626},\n",
       "   {'Vertex_ID': '1274', 'score': 54.3504},\n",
       "   {'Vertex_ID': '5038', 'score': 54.2024},\n",
       "   {'Vertex_ID': '388', 'score': 53.95398},\n",
       "   {'Vertex_ID': '64', 'score': 53.65735},\n",
       "   {'Vertex_ID': '433', 'score': 52.90174},\n",
       "   {'Vertex_ID': '19', 'score': 52.81636},\n",
       "   {'Vertex_ID': '30', 'score': 52.67369},\n",
       "   {'Vertex_ID': '1577', 'score': 52.50162},\n",
       "   {'Vertex_ID': '780', 'score': 52.3129},\n",
       "   {'Vertex_ID': '791', 'score': 52.08034},\n",
       "   {'Vertex_ID': '49', 'score': 51.98593},\n",
       "   {'Vertex_ID': '0', 'score': 50.74076},\n",
       "   {'Vertex_ID': '3685', 'score': 50.46136},\n",
       "   {'Vertex_ID': '44', 'score': 50.31782},\n",
       "   {'Vertex_ID': '1178', 'score': 50.1187},\n",
       "   {'Vertex_ID': '398', 'score': 49.61901},\n",
       "   {'Vertex_ID': '329', 'score': 49.34311},\n",
       "   {'Vertex_ID': '1620', 'score': 49.32757},\n",
       "   {'Vertex_ID': '395', 'score': 49.31266},\n",
       "   {'Vertex_ID': '90', 'score': 49.06795},\n",
       "   {'Vertex_ID': '1396', 'score': 48.45021},\n",
       "   {'Vertex_ID': '715', 'score': 47.959},\n",
       "   {'Vertex_ID': '125', 'score': 47.87292},\n",
       "   {'Vertex_ID': '549', 'score': 47.52725},\n",
       "   {'Vertex_ID': '381', 'score': 46.54938},\n",
       "   {'Vertex_ID': '563', 'score': 46.22143},\n",
       "   {'Vertex_ID': '1516', 'score': 46.11577},\n",
       "   {'Vertex_ID': '2066', 'score': 45.57027},\n",
       "   {'Vertex_ID': '1075', 'score': 45.45176},\n",
       "   {'Vertex_ID': '103', 'score': 45.08743},\n",
       "   {'Vertex_ID': '1613', 'score': 45.01221},\n",
       "   {'Vertex_ID': '1409', 'score': 44.95624},\n",
       "   {'Vertex_ID': '1815', 'score': 44.58538},\n",
       "   {'Vertex_ID': '663', 'score': 43.96332},\n",
       "   {'Vertex_ID': '2236', 'score': 43.64512},\n",
       "   {'Vertex_ID': '1712', 'score': 43.1643},\n",
       "   {'Vertex_ID': '1471', 'score': 43.06904},\n",
       "   {'Vertex_ID': '81', 'score': 42.74478},\n",
       "   {'Vertex_ID': '4282', 'score': 42.35567},\n",
       "   {'Vertex_ID': '12', 'score': 42.28432},\n",
       "   {'Vertex_ID': '295', 'score': 42.11745},\n",
       "   {'Vertex_ID': '1935', 'score': 41.64424},\n",
       "   {'Vertex_ID': '2512', 'score': 41.56322},\n",
       "   {'Vertex_ID': '1617', 'score': 41.47106},\n",
       "   {'Vertex_ID': '551', 'score': 40.66881},\n",
       "   {'Vertex_ID': '1903', 'score': 40.63485},\n",
       "   {'Vertex_ID': '722', 'score': 40.59817},\n",
       "   {'Vertex_ID': '1173', 'score': 40.42564},\n",
       "   {'Vertex_ID': '1894', 'score': 40.40381},\n",
       "   {'Vertex_ID': '1399', 'score': 40.36548},\n",
       "   {'Vertex_ID': '850', 'score': 40.34362}]}]"
      ]
     },
     "execution_count": 8,
     "metadata": {},
     "output_type": "execute_result"
    }
   ],
   "source": [
    "params = {\"v_type\": \"Person\", \"e_type\": \"KNOWS\"}\n",
    "\n",
    "feat.runAlgorithm(\"tg_pagerank\", params=params)"
   ]
  },
  {
   "cell_type": "code",
   "execution_count": null,
   "id": "6d4ccfd6-1f4e-41f7-a8bc-8e01204c8215",
   "metadata": {},
   "outputs": [],
   "source": []
  }
 ],
 "metadata": {
  "kernelspec": {
   "display_name": "TigerGraph PyTorch",
   "language": "python",
   "name": "python3"
  },
  "language_info": {
   "codemirror_mode": {
    "name": "ipython",
    "version": 3
   },
   "file_extension": ".py",
   "mimetype": "text/x-python",
   "name": "python",
   "nbconvert_exporter": "python",
   "pygments_lexer": "ipython3",
   "version": "3.8.10"
  }
 },
 "nbformat": 4,
 "nbformat_minor": 5
}
