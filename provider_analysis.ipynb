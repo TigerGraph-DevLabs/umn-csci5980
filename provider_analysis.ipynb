{
 "cells": [
  {
   "cell_type": "markdown",
   "metadata": {
    "id": "2FNBCBzShFhS"
   },
   "source": [
    "#  Hands on with the TigerGraph Graph Data Science Library and Python\n",
    "### CSCI 5980\n",
    "\n",
    "Learn how to utilize TigerGraph's Graph Data Science Library to perform in-database machine learning and feature extraction through a hands-on example. We will use TigerGraph and Python with a provider referral network to help gain an understanding of how different algorithms help solve business problems."
   ]
  },
  {
   "cell_type": "markdown",
   "metadata": {
    "id": "U5jKywO0uSJi"
   },
   "source": [
    "## TigerGraph In-Database Graph Data Science Library\n",
    "The TigerGraph In-Database Graph Data Science Library contains 50+ graph data science algorithms, all of which are open source and available on GitHub, found here: https://github.com/tigergraph/gsql-graph-algorithms. They take advantage of TigerGraph's Native Parallel Graph design and are written in GSQL. Documentation of the algorithms that are available can be found here: https://docs.tigergraph.com/graph-algorithm-library.\n",
    "\n",
    "Running data science algorithms within the database removes the need for data transfer and keeps the richer graph information in your queries."
   ]
  },
  {
   "cell_type": "markdown",
   "metadata": {
    "id": "3VPwnZclhi8U"
   },
   "source": [
    "## Install Python Packages"
   ]
  },
  {
   "cell_type": "markdown",
   "metadata": {
    "id": "MYBWb1sShqcU"
   },
   "source": [
    "## Connect to TigerGraph Instance\n",
    "We are using pyTigerGraph to connect to the TigerGraph instance. We will first define our connection credentials and settings, then verify our connection."
   ]
  },
  {
   "cell_type": "code",
   "execution_count": 1,
   "metadata": {
    "id": "H912ThFG3oVC"
   },
   "outputs": [
    {
     "data": {
      "text/plain": [
       "('m31m0hjl332a99pbvt45o6c0snsd5nhh', 1665781516, '2022-10-14 21:05:16')"
      ]
     },
     "execution_count": 1,
     "metadata": {},
     "output_type": "execute_result"
    }
   ],
   "source": [
    "from pyTigerGraph import TigerGraphConnection\n",
    "\n",
    "conn=TigerGraphConnection(\n",
    "    host=\"https://parker-umn.i.tgcloud.io\",\n",
    "    graphname=\"MyGraph\",\n",
    "    gsqlSecret=\"2j4a3138vjq7p2jeugltiv7bp8k189os\"\n",
    ")\n",
    "conn.getToken(\"2j4a3138vjq7p2jeugltiv7bp8k189os\")"
   ]
  },
  {
   "cell_type": "code",
   "execution_count": 2,
   "metadata": {
    "colab": {
     "base_uri": "https://localhost:8080/",
     "height": 38
    },
    "id": "YhKsVxDK37xc",
    "outputId": "f2fd8f56-59b9-4214-aceb-4ae31efb5a14"
   },
   "outputs": [
    {
     "data": {
      "text/plain": [
       "'Hello GSQL'"
      ]
     },
     "execution_count": 2,
     "metadata": {},
     "output_type": "execute_result"
    }
   ],
   "source": [
    "conn.echo()"
   ]
  },
  {
   "cell_type": "code",
   "execution_count": 3,
   "metadata": {
    "colab": {
     "base_uri": "https://localhost:8080/"
    },
    "id": "wHBI-ier3-Gj",
    "outputId": "74bca9a5-098c-4667-dd70-964134028566"
   },
   "outputs": [
    {
     "name": "stdout",
     "output_type": "stream",
     "text": [
      "---- Global vertices, edges, and all graphs\n",
      "Vertex Types:\n",
      "- VERTEX Specialty(PRIMARY_ID id STRING) WITH STATS=\"OUTDEGREE_BY_EDGETYPE\", PRIMARY_ID_AS_ATTRIBUTE=\"false\"\n",
      "- VERTEX SubSpecialty(PRIMARY_ID id STRING) WITH STATS=\"OUTDEGREE_BY_EDGETYPE\", PRIMARY_ID_AS_ATTRIBUTE=\"false\"\n",
      "- VERTEX Prescriber(PRIMARY_ID Prescriber_id STRING, pageRank FLOAT, communityId INT) WITH STATS=\"OUTDEGREE_BY_EDGETYPE\", PRIMARY_ID_AS_ATTRIBUTE=\"false\"\n",
      "- VERTEX Claim(PRIMARY_ID Claim_id STRING, rx_fill_date DATETIME, ICD10Code STRING, ICD10CodeDescription STRING, CodeGroupTitle STRING) WITH STATS=\"OUTDEGREE_BY_EDGETYPE\", PRIMARY_ID_AS_ATTRIBUTE=\"false\"\n",
      "- VERTEX Patient(PRIMARY_ID Patient_id STRING) WITH STATS=\"OUTDEGREE_BY_EDGETYPE\", PRIMARY_ID_AS_ATTRIBUTE=\"false\"\n",
      "Edge Types:\n",
      "- DIRECTED EDGE submitted_by(FROM Claim, TO Prescriber) WITH REVERSE_EDGE=\"reverse_submitted_by\"\n",
      "- DIRECTED EDGE reverse_submitted_by(FROM Prescriber, TO Claim) WITH REVERSE_EDGE=\"submitted_by\"\n",
      "- DIRECTED EDGE associated(FROM Claim, TO Patient) WITH REVERSE_EDGE=\"reverse_associated\"\n",
      "- DIRECTED EDGE reverse_associated(FROM Patient, TO Claim) WITH REVERSE_EDGE=\"associated\"\n",
      "- DIRECTED EDGE specialty_subspecialty(FROM Specialty, TO SubSpecialty) WITH REVERSE_EDGE=\"reverse_specialty_subspecialty\"\n",
      "- DIRECTED EDGE reverse_specialty_subspecialty(FROM SubSpecialty, TO Specialty) WITH REVERSE_EDGE=\"specialty_subspecialty\"\n",
      "- DIRECTED EDGE subspecialty_prescriber(FROM SubSpecialty, TO Prescriber) WITH REVERSE_EDGE=\"reverse_subspecialty_prescriber\"\n",
      "- DIRECTED EDGE reverse_subspecialty_prescriber(FROM Prescriber, TO SubSpecialty) WITH REVERSE_EDGE=\"subspecialty_prescriber\"\n",
      "- DIRECTED EDGE referral(FROM Prescriber, TO Prescriber, num_patient INT DEFAULT \"0\") WITH REVERSE_EDGE=\"reverse_referral\"\n",
      "- DIRECTED EDGE reverse_referral(FROM Prescriber, TO Prescriber, num_patient INT DEFAULT \"0\") WITH REVERSE_EDGE=\"referral\"\n",
      "\n",
      "Graphs:\n",
      "- Graph MyGraph(Specialty:v, SubSpecialty:v, Prescriber:v, Claim:v, Patient:v, submitted_by:e, reverse_submitted_by:e, associated:e, reverse_associated:e, specialty_subspecialty:e, reverse_specialty_subspecialty:e, subspecialty_prescriber:e, reverse_subspecialty_prescriber:e, referral:e, reverse_referral:e)\n",
      "Jobs:\n",
      "\n",
      "\n",
      "JSON API version: v2\n",
      "Syntax version: v2\n",
      "\n"
     ]
    }
   ],
   "source": [
    "print(conn.gsql(\"LS\"))\n",
    "#print(conn.getEndpoints(dynamic=True))"
   ]
  },
  {
   "cell_type": "markdown",
   "metadata": {
    "id": "f9l4mnmuiirm"
   },
   "source": [
    "## Create Referral Edges\n",
    "The graph starter kit doesn't currently have referral edges loaded. Instead, a query uses claims data to infer referral edges, and creates the edge between two prescribers. We will install this query and then run it to create these edges."
   ]
  },
  {
   "cell_type": "code",
   "execution_count": null,
   "metadata": {
    "colab": {
     "base_uri": "https://localhost:8080/"
    },
    "id": "NEuYxY4jimdE",
    "outputId": "000aac6c-c511-4b17-9a22-603418c2e1ce"
   },
   "outputs": [
    {
     "name": "stdout",
     "output_type": "stream",
     "text": [
      "Using graph 'MyGraph'\n",
      "Start installing queries, about 1 minute ...\n",
      "ex2_createReferralEdge query: curl -X GET 'https://127.0.0.1:9000/query/MyGraph/ex2_createReferralEdge?inputPrescriber=VALUE'. Add -H \"Authorization: Bearer TOKEN\" if authentication is enabled.\n",
      "Select 'm1' as compile server, now connecting ...\n",
      "Node 'm1' is prepared as compile server.\n",
      "\n",
      "Query installation finished.\n",
      "Using graph 'MyGraph'\n",
      "Start installing queries, about 1 minute ...\n",
      "ex2_main_query query: curl -X GET 'https://127.0.0.1:9000/query/MyGraph/ex2_main_query'. Add -H \"Authorization: Bearer TOKEN\" if authentication is enabled.\n",
      "Select 'm1' as compile server, now connecting ...\n",
      "Node 'm1' is prepared as compile server.\n",
      "\n",
      "Query installation finished.\n"
     ]
    },
    {
     "data": {
      "text/plain": [
       "[{'all_prescribers': [{'v_id': 'pre18',\n",
       "    'v_type': 'Prescriber',\n",
       "    'attributes': {'pageRank': 0, 'communityId': 0}},\n",
       "   {'v_id': 'pre50',\n",
       "    'v_type': 'Prescriber',\n",
       "    'attributes': {'pageRank': 0, 'communityId': 0}},\n",
       "   {'v_id': 'pre86',\n",
       "    'v_type': 'Prescriber',\n",
       "    'attributes': {'pageRank': 0, 'communityId': 0}},\n",
       "   {'v_id': 'pre15',\n",
       "    'v_type': 'Prescriber',\n",
       "    'attributes': {'pageRank': 0, 'communityId': 0}},\n",
       "   {'v_id': 'pre97',\n",
       "    'v_type': 'Prescriber',\n",
       "    'attributes': {'pageRank': 0, 'communityId': 0}},\n",
       "   {'v_id': 'pre9',\n",
       "    'v_type': 'Prescriber',\n",
       "    'attributes': {'pageRank': 0, 'communityId': 0}},\n",
       "   {'v_id': 'pre10',\n",
       "    'v_type': 'Prescriber',\n",
       "    'attributes': {'pageRank': 0, 'communityId': 0}},\n",
       "   {'v_id': 'pre37',\n",
       "    'v_type': 'Prescriber',\n",
       "    'attributes': {'pageRank': 0, 'communityId': 0}},\n",
       "   {'v_id': 'pre42',\n",
       "    'v_type': 'Prescriber',\n",
       "    'attributes': {'pageRank': 0, 'communityId': 0}},\n",
       "   {'v_id': 'pre52',\n",
       "    'v_type': 'Prescriber',\n",
       "    'attributes': {'pageRank': 0, 'communityId': 0}},\n",
       "   {'v_id': 'pre82',\n",
       "    'v_type': 'Prescriber',\n",
       "    'attributes': {'pageRank': 0, 'communityId': 0}},\n",
       "   {'v_id': 'pre22',\n",
       "    'v_type': 'Prescriber',\n",
       "    'attributes': {'pageRank': 0, 'communityId': 0}},\n",
       "   {'v_id': 'pre16',\n",
       "    'v_type': 'Prescriber',\n",
       "    'attributes': {'pageRank': 0, 'communityId': 0}},\n",
       "   {'v_id': 'pre80',\n",
       "    'v_type': 'Prescriber',\n",
       "    'attributes': {'pageRank': 0, 'communityId': 0}},\n",
       "   {'v_id': 'pre62',\n",
       "    'v_type': 'Prescriber',\n",
       "    'attributes': {'pageRank': 0, 'communityId': 0}},\n",
       "   {'v_id': 'pre91',\n",
       "    'v_type': 'Prescriber',\n",
       "    'attributes': {'pageRank': 0, 'communityId': 0}},\n",
       "   {'v_id': 'pre71',\n",
       "    'v_type': 'Prescriber',\n",
       "    'attributes': {'pageRank': 0, 'communityId': 0}},\n",
       "   {'v_id': 'pre65',\n",
       "    'v_type': 'Prescriber',\n",
       "    'attributes': {'pageRank': 0, 'communityId': 0}},\n",
       "   {'v_id': 'pre21',\n",
       "    'v_type': 'Prescriber',\n",
       "    'attributes': {'pageRank': 0, 'communityId': 0}},\n",
       "   {'v_id': 'pre24',\n",
       "    'v_type': 'Prescriber',\n",
       "    'attributes': {'pageRank': 0, 'communityId': 0}},\n",
       "   {'v_id': 'pre23',\n",
       "    'v_type': 'Prescriber',\n",
       "    'attributes': {'pageRank': 0, 'communityId': 0}},\n",
       "   {'v_id': 'pre70',\n",
       "    'v_type': 'Prescriber',\n",
       "    'attributes': {'pageRank': 0, 'communityId': 0}},\n",
       "   {'v_id': 'pre46',\n",
       "    'v_type': 'Prescriber',\n",
       "    'attributes': {'pageRank': 0, 'communityId': 0}},\n",
       "   {'v_id': 'pre55',\n",
       "    'v_type': 'Prescriber',\n",
       "    'attributes': {'pageRank': 0, 'communityId': 0}},\n",
       "   {'v_id': 'pre64',\n",
       "    'v_type': 'Prescriber',\n",
       "    'attributes': {'pageRank': 0, 'communityId': 0}},\n",
       "   {'v_id': 'pre14',\n",
       "    'v_type': 'Prescriber',\n",
       "    'attributes': {'pageRank': 0, 'communityId': 0}},\n",
       "   {'v_id': 'pre53',\n",
       "    'v_type': 'Prescriber',\n",
       "    'attributes': {'pageRank': 0, 'communityId': 0}},\n",
       "   {'v_id': 'pre47',\n",
       "    'v_type': 'Prescriber',\n",
       "    'attributes': {'pageRank': 0, 'communityId': 0}},\n",
       "   {'v_id': 'pre2',\n",
       "    'v_type': 'Prescriber',\n",
       "    'attributes': {'pageRank': 0, 'communityId': 0}},\n",
       "   {'v_id': 'pre99',\n",
       "    'v_type': 'Prescriber',\n",
       "    'attributes': {'pageRank': 0, 'communityId': 0}},\n",
       "   {'v_id': 'pre58',\n",
       "    'v_type': 'Prescriber',\n",
       "    'attributes': {'pageRank': 0, 'communityId': 0}},\n",
       "   {'v_id': 'Helen Su',\n",
       "    'v_type': 'Prescriber',\n",
       "    'attributes': {'pageRank': 0, 'communityId': 0}},\n",
       "   {'v_id': 'pre81',\n",
       "    'v_type': 'Prescriber',\n",
       "    'attributes': {'pageRank': 0, 'communityId': 0}},\n",
       "   {'v_id': 'pre45',\n",
       "    'v_type': 'Prescriber',\n",
       "    'attributes': {'pageRank': 0, 'communityId': 0}},\n",
       "   {'v_id': 'pre63',\n",
       "    'v_type': 'Prescriber',\n",
       "    'attributes': {'pageRank': 0, 'communityId': 0}},\n",
       "   {'v_id': 'pre7',\n",
       "    'v_type': 'Prescriber',\n",
       "    'attributes': {'pageRank': 0, 'communityId': 0}},\n",
       "   {'v_id': 'pre32',\n",
       "    'v_type': 'Prescriber',\n",
       "    'attributes': {'pageRank': 0, 'communityId': 0}},\n",
       "   {'v_id': 'pre87',\n",
       "    'v_type': 'Prescriber',\n",
       "    'attributes': {'pageRank': 0, 'communityId': 0}},\n",
       "   {'v_id': 'pre96',\n",
       "    'v_type': 'Prescriber',\n",
       "    'attributes': {'pageRank': 0, 'communityId': 0}},\n",
       "   {'v_id': 'pre12',\n",
       "    'v_type': 'Prescriber',\n",
       "    'attributes': {'pageRank': 0, 'communityId': 0}},\n",
       "   {'v_id': 'pre54',\n",
       "    'v_type': 'Prescriber',\n",
       "    'attributes': {'pageRank': 0, 'communityId': 0}},\n",
       "   {'v_id': 'Neil Patel',\n",
       "    'v_type': 'Prescriber',\n",
       "    'attributes': {'pageRank': 0, 'communityId': 0}},\n",
       "   {'v_id': 'pre88',\n",
       "    'v_type': 'Prescriber',\n",
       "    'attributes': {'pageRank': 0, 'communityId': 0}},\n",
       "   {'v_id': 'pre13',\n",
       "    'v_type': 'Prescriber',\n",
       "    'attributes': {'pageRank': 0, 'communityId': 0}},\n",
       "   {'v_id': 'pre68',\n",
       "    'v_type': 'Prescriber',\n",
       "    'attributes': {'pageRank': 0, 'communityId': 0}},\n",
       "   {'v_id': 'pre66',\n",
       "    'v_type': 'Prescriber',\n",
       "    'attributes': {'pageRank': 0, 'communityId': 0}},\n",
       "   {'v_id': 'pre0',\n",
       "    'v_type': 'Prescriber',\n",
       "    'attributes': {'pageRank': 0, 'communityId': 0}},\n",
       "   {'v_id': 'pre48',\n",
       "    'v_type': 'Prescriber',\n",
       "    'attributes': {'pageRank': 0, 'communityId': 0}},\n",
       "   {'v_id': 'pre39',\n",
       "    'v_type': 'Prescriber',\n",
       "    'attributes': {'pageRank': 0, 'communityId': 0}},\n",
       "   {'v_id': 'pre60',\n",
       "    'v_type': 'Prescriber',\n",
       "    'attributes': {'pageRank': 0, 'communityId': 0}},\n",
       "   {'v_id': 'pre95',\n",
       "    'v_type': 'Prescriber',\n",
       "    'attributes': {'pageRank': 0, 'communityId': 0}},\n",
       "   {'v_id': 'pre69',\n",
       "    'v_type': 'Prescriber',\n",
       "    'attributes': {'pageRank': 0, 'communityId': 0}},\n",
       "   {'v_id': 'pre73',\n",
       "    'v_type': 'Prescriber',\n",
       "    'attributes': {'pageRank': 0, 'communityId': 0}},\n",
       "   {'v_id': 'pre89',\n",
       "    'v_type': 'Prescriber',\n",
       "    'attributes': {'pageRank': 0, 'communityId': 0}},\n",
       "   {'v_id': 'pre84',\n",
       "    'v_type': 'Prescriber',\n",
       "    'attributes': {'pageRank': 0, 'communityId': 0}},\n",
       "   {'v_id': 'pre28',\n",
       "    'v_type': 'Prescriber',\n",
       "    'attributes': {'pageRank': 0, 'communityId': 0}},\n",
       "   {'v_id': 'pre17',\n",
       "    'v_type': 'Prescriber',\n",
       "    'attributes': {'pageRank': 0, 'communityId': 0}},\n",
       "   {'v_id': 'pre8',\n",
       "    'v_type': 'Prescriber',\n",
       "    'attributes': {'pageRank': 0, 'communityId': 0}},\n",
       "   {'v_id': 'pre43',\n",
       "    'v_type': 'Prescriber',\n",
       "    'attributes': {'pageRank': 0, 'communityId': 0}},\n",
       "   {'v_id': 'pre77',\n",
       "    'v_type': 'Prescriber',\n",
       "    'attributes': {'pageRank': 0, 'communityId': 0}},\n",
       "   {'v_id': 'Douglas Thomas',\n",
       "    'v_type': 'Prescriber',\n",
       "    'attributes': {'pageRank': 0, 'communityId': 0}},\n",
       "   {'v_id': 'pre93',\n",
       "    'v_type': 'Prescriber',\n",
       "    'attributes': {'pageRank': 0, 'communityId': 0}},\n",
       "   {'v_id': 'pre34',\n",
       "    'v_type': 'Prescriber',\n",
       "    'attributes': {'pageRank': 0, 'communityId': 0}},\n",
       "   {'v_id': 'pre4',\n",
       "    'v_type': 'Prescriber',\n",
       "    'attributes': {'pageRank': 0, 'communityId': 0}},\n",
       "   {'v_id': 'pre41',\n",
       "    'v_type': 'Prescriber',\n",
       "    'attributes': {'pageRank': 0, 'communityId': 0}},\n",
       "   {'v_id': 'pre79',\n",
       "    'v_type': 'Prescriber',\n",
       "    'attributes': {'pageRank': 0, 'communityId': 0}},\n",
       "   {'v_id': 'pre40',\n",
       "    'v_type': 'Prescriber',\n",
       "    'attributes': {'pageRank': 0, 'communityId': 0}},\n",
       "   {'v_id': 'pre94',\n",
       "    'v_type': 'Prescriber',\n",
       "    'attributes': {'pageRank': 0, 'communityId': 0}},\n",
       "   {'v_id': 'pre92',\n",
       "    'v_type': 'Prescriber',\n",
       "    'attributes': {'pageRank': 0, 'communityId': 0}},\n",
       "   {'v_id': 'pre29',\n",
       "    'v_type': 'Prescriber',\n",
       "    'attributes': {'pageRank': 0, 'communityId': 0}},\n",
       "   {'v_id': 'pre57',\n",
       "    'v_type': 'Prescriber',\n",
       "    'attributes': {'pageRank': 0, 'communityId': 0}},\n",
       "   {'v_id': 'pre76',\n",
       "    'v_type': 'Prescriber',\n",
       "    'attributes': {'pageRank': 0, 'communityId': 0}},\n",
       "   {'v_id': 'pre11',\n",
       "    'v_type': 'Prescriber',\n",
       "    'attributes': {'pageRank': 0, 'communityId': 0}},\n",
       "   {'v_id': 'pre49',\n",
       "    'v_type': 'Prescriber',\n",
       "    'attributes': {'pageRank': 0, 'communityId': 0}},\n",
       "   {'v_id': 'pre67',\n",
       "    'v_type': 'Prescriber',\n",
       "    'attributes': {'pageRank': 0, 'communityId': 0}},\n",
       "   {'v_id': 'pre5',\n",
       "    'v_type': 'Prescriber',\n",
       "    'attributes': {'pageRank': 0, 'communityId': 0}},\n",
       "   {'v_id': 'pre36',\n",
       "    'v_type': 'Prescriber',\n",
       "    'attributes': {'pageRank': 0, 'communityId': 0}},\n",
       "   {'v_id': 'pre85',\n",
       "    'v_type': 'Prescriber',\n",
       "    'attributes': {'pageRank': 0, 'communityId': 0}},\n",
       "   {'v_id': 'pre98',\n",
       "    'v_type': 'Prescriber',\n",
       "    'attributes': {'pageRank': 0, 'communityId': 0}},\n",
       "   {'v_id': 'pre1',\n",
       "    'v_type': 'Prescriber',\n",
       "    'attributes': {'pageRank': 0, 'communityId': 0}},\n",
       "   {'v_id': 'pre26',\n",
       "    'v_type': 'Prescriber',\n",
       "    'attributes': {'pageRank': 0, 'communityId': 0}},\n",
       "   {'v_id': 'pre74',\n",
       "    'v_type': 'Prescriber',\n",
       "    'attributes': {'pageRank': 0, 'communityId': 0}},\n",
       "   {'v_id': 'pre75',\n",
       "    'v_type': 'Prescriber',\n",
       "    'attributes': {'pageRank': 0, 'communityId': 0}},\n",
       "   {'v_id': 'pre61',\n",
       "    'v_type': 'Prescriber',\n",
       "    'attributes': {'pageRank': 0, 'communityId': 0}},\n",
       "   {'v_id': 'pre33',\n",
       "    'v_type': 'Prescriber',\n",
       "    'attributes': {'pageRank': 0, 'communityId': 0}},\n",
       "   {'v_id': 'pre35',\n",
       "    'v_type': 'Prescriber',\n",
       "    'attributes': {'pageRank': 0, 'communityId': 0}},\n",
       "   {'v_id': 'pre31',\n",
       "    'v_type': 'Prescriber',\n",
       "    'attributes': {'pageRank': 0, 'communityId': 0}},\n",
       "   {'v_id': 'pre59',\n",
       "    'v_type': 'Prescriber',\n",
       "    'attributes': {'pageRank': 0, 'communityId': 0}},\n",
       "   {'v_id': 'pre3',\n",
       "    'v_type': 'Prescriber',\n",
       "    'attributes': {'pageRank': 0, 'communityId': 0}},\n",
       "   {'v_id': 'pre44',\n",
       "    'v_type': 'Prescriber',\n",
       "    'attributes': {'pageRank': 0, 'communityId': 0}},\n",
       "   {'v_id': 'pre90',\n",
       "    'v_type': 'Prescriber',\n",
       "    'attributes': {'pageRank': 0, 'communityId': 0}},\n",
       "   {'v_id': 'pre51',\n",
       "    'v_type': 'Prescriber',\n",
       "    'attributes': {'pageRank': 0, 'communityId': 0}},\n",
       "   {'v_id': 'pre56',\n",
       "    'v_type': 'Prescriber',\n",
       "    'attributes': {'pageRank': 0, 'communityId': 0}},\n",
       "   {'v_id': 'pre19',\n",
       "    'v_type': 'Prescriber',\n",
       "    'attributes': {'pageRank': 0, 'communityId': 0}},\n",
       "   {'v_id': 'pre20',\n",
       "    'v_type': 'Prescriber',\n",
       "    'attributes': {'pageRank': 0, 'communityId': 0}},\n",
       "   {'v_id': 'pre83',\n",
       "    'v_type': 'Prescriber',\n",
       "    'attributes': {'pageRank': 0, 'communityId': 0}},\n",
       "   {'v_id': 'Roger Smith',\n",
       "    'v_type': 'Prescriber',\n",
       "    'attributes': {'pageRank': 0, 'communityId': 0}},\n",
       "   {'v_id': 'pre27',\n",
       "    'v_type': 'Prescriber',\n",
       "    'attributes': {'pageRank': 0, 'communityId': 0}},\n",
       "   {'v_id': 'pre25',\n",
       "    'v_type': 'Prescriber',\n",
       "    'attributes': {'pageRank': 0, 'communityId': 0}},\n",
       "   {'v_id': 'pre72',\n",
       "    'v_type': 'Prescriber',\n",
       "    'attributes': {'pageRank': 0, 'communityId': 0}},\n",
       "   {'v_id': 'pre78',\n",
       "    'v_type': 'Prescriber',\n",
       "    'attributes': {'pageRank': 0, 'communityId': 0}},\n",
       "   {'v_id': 'pre30',\n",
       "    'v_type': 'Prescriber',\n",
       "    'attributes': {'pageRank': 0, 'communityId': 0}},\n",
       "   {'v_id': 'pre38',\n",
       "    'v_type': 'Prescriber',\n",
       "    'attributes': {'pageRank': 0, 'communityId': 0}},\n",
       "   {'v_id': 'pre6',\n",
       "    'v_type': 'Prescriber',\n",
       "    'attributes': {'pageRank': 0, 'communityId': 0}}]}]"
      ]
     },
     "execution_count": 4,
     "metadata": {},
     "output_type": "execute_result"
    }
   ],
   "source": [
    "print(conn.gsql(\"USE GRAPH MyGraph\\n INSTALL QUERY ex2_createReferralEdge\"))\n",
    "print(conn.gsql(\"USE GRAPH MyGraph\\n INSTALL QUERY ex2_main_query\"))\n",
    "\n",
    "conn.runInstalledQuery(\"ex2_main_query\")"
   ]
  },
  {
   "cell_type": "markdown",
   "metadata": {
    "id": "jkjwXTjFhzLW",
    "tags": []
   },
   "source": [
    "## Louvain Modularity Community Detection\n",
    "\n",
    "The Louvain Algorithm creates communities by maximizing a metric called **modularity**. The higher the modularity, the vertices within that community are more densely connected than that of a randomly-connected graph.\n",
    "\n",
    "The documentation of Louvain Community Detection is found here: https://docs.tigergraph.com/graph-algorithm-library/community/louvain-method-with-parallelism-and-refinement."
   ]
  },
  {
   "cell_type": "code",
   "execution_count": 9,
   "metadata": {
    "colab": {
     "base_uri": "https://localhost:8080/"
    },
    "id": "PcBztTJV3_yL",
    "outputId": "61a4ba66-8436-440c-a948-1368542c273d",
    "tags": []
   },
   "outputs": [
    {
     "name": "stdout",
     "output_type": "stream",
     "text": [
      "Using graph 'MyGraph'\n",
      "Successfully created queries: [tg_louvain_parallel].\n",
      "Start installing queries, about 1 minute ...\n",
      "tg_louvain_parallel query: curl -X GET 'https://127.0.0.1:9000/query/MyGraph/tg_louvain_parallel?v_type=VALUE&e_type=VALUE&wt_attr=VALUE&[iter1=VALUE]&[iter2=VALUE]&[iter3=VALUE]&[split=VALUE]&[print_accum=VALUE]&[result_attr=VALUE]&[file_path=VALUE]&[comm_by_size=VALUE]'. Add -H \"Authorization: Bearer TOKEN\" if authentication is enabled.\n",
      "Select 'm1' as compile server, now connecting ...\n",
      "Node 'm1' is prepared as compile server.\n",
      "\n",
      "Query installation finished.\n"
     ]
    }
   ],
   "source": [
    "louvain = '''\n",
    "CREATE QUERY tg_louvain_parallel (SET<STRING> v_type, SET<STRING> e_type, STRING wt_attr,\n",
    "  INT iter1=10, INT iter2=10, INT iter3=10, INT split=10, BOOL print_accum = TRUE,\n",
    "  STRING result_attr = \"\", STRING file_path = \"\", BOOL comm_by_size = TRUE) {\n",
    " /*\n",
    " * Louvain Method with Parallelism and Refinement\n",
    " * https://arxiv.org/pdf/1304.4453\n",
    " * The minimum label heuristics are implemented: https://doi.org/10.1016/j.parco.2015.03.003\n",
    " \n",
    "Parameters:\n",
    " * v_type: vertex types to traverse        print_accum: print JSON\n",
    " * e_type: edge types to traverse          result_attr: INT attr to store results to\n",
    "                                           file_path: file to write CSV output to\n",
    " * wt_attr: attribute for edge weights. The wt_attr data type is hardcoded to INT. FLOAT\n",
    "  or DOUBLE can be supported by changing \"INT\" to \"FLOAT\"/\"DOUBLE\" (~10 instances) below. \n",
    " * iter: There are three phases in the algorithm -- move, merge and refine. Their max number of iterations are set by iter1, iter2, iter3 respectively.\n",
    " * split: To save memory, split number is 10 by default. When the split number is larger, the query is closer to sequential Louvain Method, which is slower. When the split number is 1, the query is parallel, but requires more memory. \n",
    " * comm_by_size: list community ids by size\n",
    "*/\n",
    "    \n",
    "    TYPEDEF TUPLE <INT csize, INT number> ClusterNum;\n",
    "    TYPEDEF TUPLE <VERTEX node, INT cid, FLOAT deltaQ> vDeltaQ;\n",
    "    HeapAccum<vDeltaQ>(1, deltaQ DESC, cid ASC) @largestDeltaQ;   # if deltaQ is the same, select the one with mininal vid \n",
    "    MapAccum<INT, FLOAT> @@totIncidentCluster;   # sum of weight incident to clusters\n",
    "    MapAccum<INT, INT> @@clusterSizes;           # size of a cluster\n",
    "    MapAccum<INT, FLOAT> @weightToCluster; # weight from a vertex incident to that cluster\n",
    "    SumAccum<FLOAT> @@totalWeight;   # total weight of all edges\n",
    "    SumAccum<FLOAT> @weight;         # total weight incident to this vertex\n",
    "    SumAccum<FLOAT> @cweight;        # total weight incident to this aggregate vertex\n",
    "    SumAccum<INT> @uid;              # which vertex it belongs to\n",
    "    SumAccum<INT> @cid;              # which cluster it belongs to\n",
    "    SumAccum<INT> @vid;              # internal id\n",
    "    SumAccum<FLOAT> @deltaQ;         # contribution to the modularity\n",
    "    SumAccum<FLOAT> @@modularity;\n",
    "    SumAccum<FLOAT> @@modularity2;\n",
    "    MapAccum<INT, MapAccum<INT, FLOAT>> @@weightToClusterMap;   # calculate edges between communities \n",
    "    MapAccum<INT, SetAccum<INT>> @@moveComm; # map of communities that changed community id\n",
    "    MapAccum<INT, MinAccum<VERTEX>> @@representMap;\n",
    "    SetAccum<VERTEX> @@representSet;\n",
    "    MapAccum<INT, FLOAT> @@vertexMap;\n",
    "    MapAccum<INT, MapAccum<INT, FLOAT>> @@edgeMap;\n",
    "    HeapAccum<ClusterNum>(100, csize ASC) @@clusterDist;\n",
    "    MapAccum<INT, INT> @@clusterMap;\n",
    "    MapAccum<INT, ListAccum<INT>> @@clusterMembers;\n",
    "    FLOAT last_modularity = 0;\n",
    "    FLOAT last_modularity2 = 0;\n",
    "    INT iteration;\n",
    "    INT Iter1; \n",
    "    FLOAT epsilon = 0.0001;\n",
    "    INT iteration2;\n",
    "    INT partitions;\n",
    "    INT loop;\n",
    "    INT debug = 0;  # debug: 0, no modularity info; 1, show debug log; 2, modularity for each iteration\n",
    "    FILE f (file_path);\n",
    "    \n",
    "    partitions = split;\n",
    "    CASE WHEN split < 1 THEN\n",
    "            partitions = 1;\n",
    "    END;\n",
    "        \n",
    "# Initialize: count edges and set a unique cluster ID for each vertex\n",
    "    Start = {v_type};\n",
    "    S = SELECT s \n",
    "        FROM Start:s -(e_type:e)-> :t\n",
    "        ACCUM @@totalWeight += e.getAttr(wt_attr,\"INT\")*1.0,\n",
    "            s.@weight += e.getAttr(wt_attr,\"INT\")*1.0\n",
    "        POST-ACCUM s.@vid = getvid(s),\n",
    "                   s.@uid = s.@vid,\n",
    "                   s.@cid = s.@vid;  # Label each vertex with its own internal ID\n",
    "\n",
    "# Special first iteration of Phase 1\n",
    "    iteration = 1;\n",
    "    S = SELECT s \n",
    "        FROM Start:s -(e_type:e)-> :t\n",
    "        WHERE s.@cid > t.@cid\n",
    "        ACCUM s.@largestDeltaQ += vDeltaQ(t, t.@cid, e.getAttr(wt_attr,\"INT\")*1.0 - 2 * s.@weight * s.@weight/ @@totalWeight) \n",
    "              # weightToCluster is just e.getAttr(wt_attr,\"INT\")*1.0\n",
    "        POST-ACCUM INT bestCluster = s.@largestDeltaQ.top().cid,\n",
    "                   IF s.@largestDeltaQ.size() > 0 and s.@largestDeltaQ.top().deltaQ > 0 and s.@cid != bestCluster THEN \n",
    "                           s.@cid = bestCluster\n",
    "                   END,\n",
    "                   s.@largestDeltaQ.clear();\n",
    "\n",
    "    S = SELECT s\n",
    "        FROM Start:s-(e_type:e)-:t\n",
    "        WHERE s.@cid == t.@cid\n",
    "        ACCUM @@modularity += e.getAttr(wt_attr,\"INT\")*1.0 - s.@weight * t.@weight / (@@totalWeight);\n",
    "\n",
    "    @@modularity = @@modularity / @@totalWeight;                      \n",
    "    PRINT iteration AS Phase1Iter, @@modularity;\n",
    "    log(debug > 0, \"[redrain]#move\", iteration, @@modularity);\n",
    "        \n",
    "# Phase 1 -- Move\n",
    "# For each vertex, calculate the change in modularity FROM adding it to each of the nearby clusters\n",
    "# Add vertex to cluster with highest positive change in modularity\n",
    "# Repeat the above until no vertices change cluster anymore\n",
    "    S = SELECT s \n",
    "        FROM Start:s\n",
    "        ACCUM @@totIncidentCluster += (s.@cid -> s.@weight); \n",
    "      \n",
    "    iteration = 1;\n",
    "    Iter1 = iter1 - 1;\n",
    "      \n",
    "    WHILE (iteration < 2 OR @@modularity - last_modularity > epsilon) LIMIT Iter1 DO\n",
    "        iteration = iteration + 1;\n",
    "        loop = 0;\n",
    "        WHILE (loop < partitions) DO \n",
    "            S = SELECT s \n",
    "                FROM Start:s -(e_type:e)-> :t\n",
    "                WHERE s.@uid % partitions == loop    # for different split\n",
    "                    # At least one cluster not singlet(a cluster on its own). If both clusters are singlets, consider only when the label of target is smaller to avoid swap\n",
    "                    AND (( abs(s.@weight - @@totIncidentCluster.get(s.@cid)) > epsilon   # s is not a singlet \n",
    "                    OR abs(t.@weight - @@totIncidentCluster.get(t.@cid)) > epsilon )     # or t is not a singlet\n",
    "                    OR (abs(s.@weight - @@totIncidentCluster.get(s.@cid)) < epsilon      # s is a singlet \n",
    "                    AND abs(t.@weight - @@totIncidentCluster.get(t.@cid)) < epsilon      # t is also a singlet\n",
    "                    AND s.@cid > t.@cid) )                                               # consider only when target label is smaller\n",
    "                ACCUM s.@weightToCluster += (t.@cid -> e.getAttr(wt_attr,\"INT\")*1.0)\n",
    "                POST-ACCUM INT bestCluster = s.@cid,\n",
    "                    FLOAT maxDeltaQ = 0.0,\n",
    "                    FLOAT deltaQ_new = 0.0,\n",
    "                    FOREACH (cluster, weightToC) IN s.@weightToCluster DO   #would be better if this can be distributed\n",
    "                        FLOAT incident = @@totIncidentCluster.get(cluster),\n",
    "                        deltaQ_new = weightToC - 2 * incident * s.@weight/ @@totalWeight,\n",
    "                        IF deltaQ_new > maxDeltaQ OR (abs(deltaQ_new - maxDeltaQ) < epsilon AND cluster < bestCluster) THEN   # when deltaQ_new is equal to maxDeltaQ, and the cluster label is smaller, also change \n",
    "                               maxDeltaQ = deltaQ_new,\n",
    "                               bestCluster = cluster\n",
    "                        END\n",
    "                    END,\n",
    "                    IF s.@cid != bestCluster THEN \n",
    "                        @@totIncidentCluster += (s.@cid -> (-1 * s.@weight)),\n",
    "                        @@totIncidentCluster += (bestCluster -> s.@weight),\n",
    "                        s.@cid = bestCluster\n",
    "                    END,\n",
    "                    s.@weightToCluster.clear();\n",
    "            loop = loop + 1;\n",
    "        END;\n",
    "        last_modularity = @@modularity;\n",
    "        @@modularity = 0;\n",
    "        T1 = SELECT s\n",
    "            FROM Start:s-(e_type:e)-:t\n",
    "            WHERE s.@cid == t.@cid\n",
    "            ACCUM @@modularity += e.getAttr(wt_attr,\"INT\")*1.0 - s.@weight * t.@weight / (@@totalWeight);\n",
    "        @@modularity = @@modularity / @@totalWeight;                      \n",
    "        PRINT iteration AS Phase1Iter, @@modularity;\n",
    "        log(debug > 0, \"[redrain]#move\", iteration, @@modularity);\n",
    "    END;\n",
    "\n",
    "# Phase 2 --  Merge     \n",
    "    iteration2 = 0;\n",
    "    WHILE (iteration2 < 2 OR @@modularity2 - last_modularity2 > epsilon) LIMIT iter2 DO\n",
    "        iteration2 = iteration2 + 1;\n",
    "        Start = SELECT s\n",
    "                FROM Start:s\n",
    "                ACCUM s.@uid = s.@cid;      \n",
    "        # Select the vertices with minimal internal id to represent the coarsened graph\n",
    "        Start = SELECT s\n",
    "                FROM Start:s \n",
    "                ACCUM @@representMap += (s.@cid -> s);\n",
    "\n",
    "        FOREACH (key, value) IN @@representMap DO\n",
    "                @@representSet += value;                       \n",
    "        END;      \n",
    "        represent = {@@representSet};\n",
    "        @@representMap.clear();\n",
    "        @@representSet.clear();\n",
    "        log(debug > 0, \"[redrain]#2_merge\", represent.size()); #@@clusterSizes.size());\n",
    "\n",
    "    # Get @cweight from totalIncident\n",
    "        represent = SELECT s\n",
    "                    FROM represent:s\n",
    "                    ACCUM s.@cweight = @@totIncidentCluster.get(s.@uid),\n",
    "                          @@clusterSizes += (s.@cid -> 1);\n",
    "\n",
    "        log(debug > 1, \"[redrain]#2_merge\", @@weightToClusterMap.size());\n",
    "        iteration = 0;\n",
    "        last_modularity = 0;\n",
    "        @@modularity = 0;\n",
    "\n",
    "        WHILE (iteration < 2 OR @@modularity - last_modularity > epsilon) limit iter1 DO\n",
    "            iteration = iteration + 1;\n",
    "\n",
    "            # Calculate.getAttr(wt_attr,\"INT\")*1.0 incident from vertex to cluster in coarsened graph; change every interation\n",
    "            S = SELECT s\n",
    "                FROM Start:s -(e_type:e)-:t\n",
    "                WHERE s.@cid != t.@cid AND @@totIncidentCluster.get(s.@uid) > 0 AND @@totIncidentCluster.get(t.@cid) > 0   #@@totIncidentCluster keeps changing, can be 0\n",
    "                ACCUM @@weightToClusterMap += (s.@uid -> (t.@cid -> e.getAttr(wt_attr,\"INT\")*1.0));  # from s, incident to some clusters. Not consider the same cluster\n",
    "            represent = SELECT s \n",
    "                FROM represent:s\n",
    "                POST-ACCUM INT bestCluster = s.@cid,\n",
    "                    FLOAT maxDeltaQ = 0.0,\n",
    "                    FLOAT deltaQ_new = 0.0,\n",
    "                    FOREACH (cluster, weightToC) IN @@weightToClusterMap.get(s.@uid) DO \n",
    "                        FLOAT incident = @@totIncidentCluster.get(cluster),\n",
    "                        IF @@clusterSizes.get(s.@cid) == 1 AND @@clusterSizes.get(cluster) == 1 AND s.@cid < cluster THEN\n",
    "                               CONTINUE\n",
    "                        END,\n",
    "                        deltaQ_new = weightToC - 2 * incident * s.@cweight/ @@totalWeight, #total weight should be the same\n",
    "                        IF deltaQ_new > maxDeltaQ OR abs(deltaQ_new - maxDeltaQ) < epsilon AND cluster < bestCluster THEN      # new cluster is smaller then the current best cluster\n",
    "                               maxDeltaQ = deltaQ_new,\n",
    "                               bestCluster = cluster\n",
    "                        END\n",
    "                    END,\n",
    "                    IF s.@cid != bestCluster THEN\n",
    "                        @@totIncidentCluster += (s.@cid -> (-1 * s.@cweight)),\n",
    "                        @@totIncidentCluster += (bestCluster -> s.@cweight),\n",
    "                        @@moveComm += (s.@uid -> bestCluster),\n",
    "                        @@clusterSizes += (s.@cid -> -1),\n",
    "                        @@clusterSizes += (bestCluster -> 1),\n",
    "                        s.@cid = bestCluster\n",
    "                    END;\n",
    "            log(debug > 1, \"[redrain]#2_merge\", @@weightToClusterMap.size()); \n",
    "            @@weightToClusterMap.clear();\n",
    "\n",
    "            log(debug > 1, \"[redrain]#2_move:\", @@moveComm.size());\n",
    "            # move nodes\n",
    "            S = SELECT s\n",
    "                FROM Start:s\n",
    "                WHERE @@moveComm.containsKey(s.@uid)\n",
    "                POST-ACCUM FOREACH v IN @@moveComm.get(s.@uid) DO\n",
    "                                   s.@cid = v\n",
    "                           END;\n",
    "            @@moveComm.clear();\n",
    "\n",
    "            last_modularity = @@modularity;           \n",
    "            @@modularity = 0;\n",
    "\n",
    "            S = SELECT s\n",
    "                FROM Start:s-(e_type:e)-:t\n",
    "                WHERE s.@cid == t.@cid\n",
    "                ACCUM @@modularity += e.getAttr(wt_attr,\"INT\")*1.0 - s.@weight * t.@weight / (@@totalWeight);\n",
    "                @@modularity = @@modularity / @@totalWeight;\n",
    "                PRINT iteration AS Phase1Iter, @@modularity;\n",
    "            log(debug > 0, \"[redrain]#2_move\", iteration, @@modularity);\n",
    "        END;\n",
    "\n",
    "        S = SELECT s\n",
    "            FROM represent:s\n",
    "            ACCUM s.@cweight = 0;\n",
    "        @@clusterSizes.clear();\n",
    "\n",
    "        last_modularity2 = @@modularity2;\n",
    "        @@modularity2 = @@modularity;\n",
    "        PRINT iteration2 AS Phase2Iter, @@modularity2;\n",
    "        log(debug > 0, \"[redrain]#2_merge\", iteration2, @@modularity2);\t\t\t\t\t  \n",
    "    END;\n",
    "        \n",
    "        \n",
    "# Phase 3 -- Refinement\n",
    "    iteration = 0;\n",
    "    @@modularity = 0;\n",
    "    WHILE (iteration < 2 OR @@modularity - last_modularity > epsilon) LIMIT iter3 DO\n",
    "        iteration = iteration + 1;\n",
    "        S = SELECT s \n",
    "            FROM Start:s -(e_type:e)-> :t\n",
    "            WHERE abs(s.@weight - @@totIncidentCluster.get(s.@cid)) > epsilon OR abs(t.@weight - @@totIncidentCluster.get(t.@cid)) > epsilon OR (abs(s.@weight - @@totIncidentCluster.get(s.@cid)) < epsilon AND abs(t.@weight - @@totIncidentCluster.get(t.@cid)) < epsilon AND s.@cid > t.@cid)   # at least one cluster not only itself, or use smaller label\n",
    "            ACCUM s.@weightToCluster += (t.@cid -> e.getAttr(wt_attr,\"INT\")*1.0)\n",
    "            POST-ACCUM\n",
    "                INT bestCluster = s.@cid,\n",
    "                FLOAT maxDeltaQ = 0.0,\n",
    "                FLOAT deltaQ_new = 0.0,\n",
    "                FOREACH (cluster, weightToC) IN s.@weightToCluster DO   #would be better if this can be distributed\n",
    "                    FLOAT incident = @@totIncidentCluster.get(cluster),\n",
    "                    deltaQ_new = weightToC - 2 * incident * s.@weight/ @@totalWeight,\n",
    "                    IF deltaQ_new > maxDeltaQ OR (abs(deltaQ_new - maxDeltaQ) < epsilon AND cluster < bestCluster) THEN   # when deltaQ_new is equal to maxDeltaQ, and the cluster label is smaller, also change \n",
    "                    maxDeltaQ = deltaQ_new,\n",
    "                    bestCluster = cluster\n",
    "                    END\n",
    "                END,\n",
    "                IF s.@cid != bestCluster THEN \n",
    "                    @@totIncidentCluster += (s.@cid -> (-1 * s.@weight)),\n",
    "                    @@totIncidentCluster += (bestCluster -> s.@weight),\n",
    "                    s.@cid = bestCluster\n",
    "                END,\n",
    "                s.@weightToCluster.clear();\n",
    "\n",
    "        last_modularity = @@modularity;\n",
    "        @@modularity = 0;\n",
    "        T1 = SELECT s\n",
    "             FROM Start:s-(e_type:e)-:t\n",
    "             WHERE s.@cid == t.@cid\n",
    "             ACCUM @@modularity += e.getAttr(wt_attr,\"INT\")*1.0 - s.@weight * t.@weight / (@@totalWeight);\n",
    "        @@modularity = @@modularity / @@totalWeight;                      \n",
    "        PRINT iteration AS Phase3Iter, @@modularity;\n",
    "        log(debug > 0, \"[redrain]#refine\", iteration, @@modularity);\n",
    "    END;\n",
    "\t\n",
    "\tStart = SELECT s FROM Start:s\n",
    "\t    POST-ACCUM\n",
    "\t        IF result_attr != \"\" THEN s.setAttr(result_attr, s.@cid) END,\n",
    "\t        IF file_path != \"\" THEN f.println(s, s.@cid) END\n",
    "\t    ;\n",
    "\tIF print_accum THEN\n",
    "\t    PRINT Start[Start.@cid];\n",
    "\tEND;\n",
    "    \n",
    "    Start = {v_type};\n",
    "    Start = SELECT s FROM Start:s\n",
    "        POST-ACCUM @@clusterSizes += (s.@cid -> 1)\n",
    "        ;\n",
    "    log(TRUE, @@clusterSizes.size());\n",
    "\n",
    "    IF comm_by_size THEN\n",
    "        FOREACH (cluster, csize) IN @@clusterSizes DO\n",
    "                @@clusterMembers += (csize -> cluster);\n",
    "        END;\n",
    "        PRINT @@clusterMembers;\n",
    "    END;\n",
    "}'''\n",
    "\n",
    "# Uncomment the line below if there is already a tg_louvain_parallel query installed\n",
    "# print(conn.gsql(\"USE GRAPH MyGraph\\nDROP QUERY tg_louvain_parallel\\n\"))\n",
    "print(conn.gsql(\"USE GRAPH MyGraph\\n\"+louvain+\"\\n INSTALL QUERY tg_louvain_parallel\"))"
   ]
  },
  {
   "cell_type": "code",
   "execution_count": 10,
   "metadata": {
    "id": "mUR9H8vk4gFI"
   },
   "outputs": [],
   "source": [
    "params = {\n",
    "  \"v_type\": \"Prescriber\", \n",
    "  \"e_type\": \"referral\",\n",
    "  \"wt_attr\": \"num_patient\",\n",
    "  \"iter1\": 10, \n",
    "  \"iter2\": 10,\n",
    "  \"iter3\": 10, \n",
    "  \"split\": 10,\n",
    "  \"print_accum\": True,\n",
    "  \"result_attr\": \"communityId\", \n",
    "  \"file_path\": \"\",\n",
    "  \"comm_by_size\": True    \n",
    "}\n",
    "\n",
    "res = conn.runInstalledQuery(\"tg_louvain_parallel\", params=params)"
   ]
  },
  {
   "cell_type": "code",
   "execution_count": 11,
   "metadata": {
    "colab": {
     "base_uri": "https://localhost:8080/"
    },
    "id": "9-prCIVvmMty",
    "outputId": "3fb32bc5-4f1b-4c59-e24e-f76fbd2dac78"
   },
   "outputs": [
    {
     "data": {
      "text/plain": [
       "{'11': [73400324],\n",
       " '6': [68157441, 75497473],\n",
       " '15': [0, 72351746, 68157440],\n",
       " '13': [71303169],\n",
       " '23': [77594629]}"
      ]
     },
     "execution_count": 11,
     "metadata": {},
     "output_type": "execute_result"
    }
   ],
   "source": [
    "res[-1][\"@@clusterMembers\"]"
   ]
  },
  {
   "cell_type": "code",
   "execution_count": 12,
   "metadata": {
    "id": "sMIAuDzjnRRz"
   },
   "outputs": [],
   "source": [
    "def getProvidersInCommunity(res, cid):\n",
    "  providers = res[-2][\"Start\"]\n",
    "  result = []\n",
    "  for provider in providers:\n",
    "    if provider[\"attributes\"][\"Start.@cid\"] == cid:\n",
    "      result.append(provider[\"v_id\"])\n",
    "  return result"
   ]
  },
  {
   "cell_type": "code",
   "execution_count": 15,
   "metadata": {
    "colab": {
     "base_uri": "https://localhost:8080/"
    },
    "id": "IRiIYnwspGX9",
    "outputId": "be8f58f1-bc8e-4fa8-ed30-8afb569a9a32"
   },
   "outputs": [
    {
     "data": {
      "text/plain": [
       "['pre24',\n",
       " 'pre81',\n",
       " 'pre66',\n",
       " 'pre48',\n",
       " 'pre95',\n",
       " 'pre39',\n",
       " 'pre11',\n",
       " 'pre36',\n",
       " 'pre56',\n",
       " 'pre30',\n",
       " 'pre43']"
      ]
     },
     "execution_count": 15,
     "metadata": {},
     "output_type": "execute_result"
    }
   ],
   "source": [
    "getProvidersInCommunity(res, 73400324)"
   ]
  },
  {
   "cell_type": "code",
   "execution_count": 14,
   "metadata": {
    "colab": {
     "base_uri": "https://localhost:8080/"
    },
    "id": "SRryaCTApK0c",
    "outputId": "3834bcd8-9b74-4a19-ceff-3ac8308aff43"
   },
   "outputs": [
    {
     "data": {
      "text/plain": [
       "['pre65',\n",
       " 'pre10',\n",
       " 'pre64',\n",
       " 'pre14',\n",
       " 'pre42',\n",
       " 'pre58',\n",
       " 'pre16',\n",
       " 'pre0',\n",
       " 'pre23',\n",
       " 'pre79',\n",
       " 'pre94',\n",
       " 'pre49',\n",
       " 'pre61',\n",
       " 'pre33',\n",
       " 'pre19']"
      ]
     },
     "execution_count": 14,
     "metadata": {},
     "output_type": "execute_result"
    }
   ],
   "source": [
    "getProvidersInCommunity(res, 72351746)"
   ]
  },
  {
   "cell_type": "markdown",
   "metadata": {
    "id": "5uvcn1awh8hS"
   },
   "source": [
    "## PageRank\n",
    "PageRank is the algorithm that originally ran Google's search engine, where it ranked the most influential webpages higher than less influential ones. A page was determined to be influential through its PageRank score, which is based off the importance of the pages that linked to it. Generalizing this, PageRank finds the most influential vertices in a graph based upon how influential the vertices that have edges to the desired vertex are.\n",
    "\n",
    "The documentation of the PageRank query is found here: https://docs.tigergraph.com/graph-algorithm-library/centrality/pagerank."
   ]
  },
  {
   "cell_type": "code",
   "execution_count": 16,
   "metadata": {
    "id": "F-BqOE47psBe"
   },
   "outputs": [],
   "source": [
    "feat = conn.gds.featurizer()"
   ]
  },
  {
   "cell_type": "code",
   "execution_count": 17,
   "metadata": {
    "colab": {
     "base_uri": "https://localhost:8080/"
    },
    "id": "INVzMN2CqMii",
    "outputId": "4ec8f65b-0fd1-4ede-ed0d-0d15abae87af"
   },
   "outputs": [
    {
     "name": "stdout",
     "output_type": "stream",
     "text": [
      "Installing and optimizing the queries, it might take a minute\n"
     ]
    },
    {
     "data": {
      "text/plain": [
       "'tg_pagerank'"
      ]
     },
     "execution_count": 17,
     "metadata": {},
     "output_type": "execute_result"
    }
   ],
   "source": [
    "feat.installAlgorithm(\"tg_pagerank\")"
   ]
  },
  {
   "cell_type": "code",
   "execution_count": 21,
   "metadata": {
    "id": "QSB5ii37qVU7"
   },
   "outputs": [],
   "source": [
    "params = {\n",
    "  \"v_type\": \"Prescriber\",\n",
    "  \"e_type\": \"referral\",\n",
    "  \"max_change\": 0.001,\n",
    "  \"max_iter\": 25,\n",
    "  \"damping\": 0.85,\n",
    "  \"top_k\": 150,\n",
    "  \"print_accum\": True,\n",
    "  \"result_attr\": \"pageRank\",\n",
    "  \"file_path\": \"\",\n",
    "  \"display_edges\": False\n",
    "}\n",
    "\n",
    "pr_res = feat.runAlgorithm(\"tg_pagerank\", params=params)[0][\"@@top_scores_heap\"]"
   ]
  },
  {
   "cell_type": "code",
   "execution_count": 22,
   "metadata": {
    "id": "OjQc2BvErNhI"
   },
   "outputs": [],
   "source": [
    "def getMostInfluentialInCommunity(community, pr_res):\n",
    "  currentMaxScore = -1*float(\"inf\")\n",
    "  currentMaxId = \"\"\n",
    "  for r in pr_res:\n",
    "    if r[\"Vertex_ID\"] in community:\n",
    "      if r[\"score\"] > currentMaxScore:\n",
    "        currentMaxId = r[\"Vertex_ID\"]\n",
    "        currentMaxScore = r[\"score\"]\n",
    "  return (currentMaxId, currentMaxScore)"
   ]
  },
  {
   "cell_type": "code",
   "execution_count": 23,
   "metadata": {
    "colab": {
     "base_uri": "https://localhost:8080/"
    },
    "id": "wU1_-ZnkrOCB",
    "outputId": "73f9dfd6-2b6e-49bc-8fe0-3004b02ed0ad"
   },
   "outputs": [
    {
     "data": {
      "text/plain": [
       "('pre23', 2.34658)"
      ]
     },
     "execution_count": 23,
     "metadata": {},
     "output_type": "execute_result"
    }
   ],
   "source": [
    "getMostInfluentialInCommunity(getProvidersInCommunity(res, 72351746), pr_res)"
   ]
  },
  {
   "cell_type": "code",
   "execution_count": 25,
   "metadata": {
    "colab": {
     "base_uri": "https://localhost:8080/"
    },
    "id": "cmUO5_x3sjIC",
    "outputId": "8af1fc1d-b3fa-4813-eb09-acc2b5c9b92d"
   },
   "outputs": [
    {
     "data": {
      "text/plain": [
       "('pre66', 1.26382)"
      ]
     },
     "execution_count": 25,
     "metadata": {},
     "output_type": "execute_result"
    }
   ],
   "source": [
    "getMostInfluentialInCommunity(getProvidersInCommunity(res, 73400324), pr_res)"
   ]
  },
  {
   "cell_type": "markdown",
   "metadata": {
    "id": "WQZYPnWVNlIZ"
   },
   "source": [
    "## Article Rank\n",
    "Article Rank is very similar to PageRank, but it lowers the importance of low-degree vertices. We will compare the difference between PageRank and Article Rank in the Analysis section.\n",
    "\n",
    "The documentation of the Article Rank query is found here: https://docs.tigergraph.com/graph-algorithm-library/centrality/article-rank."
   ]
  },
  {
   "cell_type": "code",
   "execution_count": 28,
   "metadata": {
    "id": "FwFRsND_Np3O"
   },
   "outputs": [
    {
     "name": "stdout",
     "output_type": "stream",
     "text": [
      "Installing and optimizing the queries, it might take a minute\n"
     ]
    },
    {
     "data": {
      "text/plain": [
       "'tg_article_rank'"
      ]
     },
     "execution_count": 28,
     "metadata": {},
     "output_type": "execute_result"
    }
   ],
   "source": [
    "feat.installAlgorithm(\"tg_article_rank\")"
   ]
  },
  {
   "cell_type": "code",
   "execution_count": 39,
   "metadata": {
    "id": "TakQeMv5N4RA"
   },
   "outputs": [
    {
     "name": "stdout",
     "output_type": "stream",
     "text": [
      "Global schema change succeeded.\n"
     ]
    }
   ],
   "source": [
    "params = {\n",
    "    \"v_type\": \"Prescriber\",\n",
    "    \"e_type\": \"referral\",\n",
    "    \"top_k\": 1000,\n",
    "    \"result_attr\": \"articleRank\"\n",
    "}\n",
    "\n",
    "ar_res = feat.runAlgorithm(\"tg_article_rank\", params=params, feat_name=\"articleRank\", schema_name=[\"Prescriber\"], global_schema=True)[0][\"@@top_scores_heap\"]"
   ]
  },
  {
   "cell_type": "code",
   "execution_count": 40,
   "metadata": {},
   "outputs": [
    {
     "data": {
      "text/plain": [
       "[{'Vertex_ID': 'pre23', 'score': 205912.26563},\n",
       " {'Vertex_ID': 'pre29', 'score': 185670.92188},\n",
       " {'Vertex_ID': 'pre69', 'score': 174932.4375},\n",
       " {'Vertex_ID': 'pre74', 'score': 162740.9375},\n",
       " {'Vertex_ID': 'pre60', 'score': 141031.67188}]"
      ]
     },
     "execution_count": 40,
     "metadata": {},
     "output_type": "execute_result"
    }
   ],
   "source": [
    "ar_res[:5]"
   ]
  },
  {
   "cell_type": "markdown",
   "metadata": {
    "id": "g2uBC10yGofT"
   },
   "source": [
    "## Analysis"
   ]
  },
  {
   "cell_type": "markdown",
   "metadata": {
    "id": "kN8e4YahyKlP"
   },
   "source": [
    "### Get Subspecialty Information"
   ]
  },
  {
   "cell_type": "code",
   "execution_count": 42,
   "metadata": {
    "colab": {
     "base_uri": "https://localhost:8080/"
    },
    "id": "xYRoXFH2GwL7",
    "outputId": "b12390fa-724d-448a-fa75-61e89fa486e0"
   },
   "outputs": [
    {
     "name": "stdout",
     "output_type": "stream",
     "text": [
      "Using graph 'MyGraph'\n",
      "Successfully created queries: [getPrescriberFeats].\n",
      "Start installing queries, about 1 minute ...\n",
      "getPrescriberFeats query: curl -X GET 'https://127.0.0.1:9000/query/MyGraph/getPrescriberFeats'. Add -H \"Authorization: Bearer TOKEN\" if authentication is enabled.\n",
      "Select 'm1' as compile server, now connecting ...\n",
      "Node 'm1' is prepared as compile server.\n",
      "\n",
      "Query installation finished.\n"
     ]
    }
   ],
   "source": [
    "getPrescriberFeats = '''\n",
    "CREATE QUERY getPrescriberFeats () {\n",
    "  TYPEDEF TUPLE <subspecialty VERTEX<SubSpecialty>, community INT, pagerank FLOAT, articlerank FLOAT> feats;\n",
    "  MapAccum<VERTEX<Prescriber>, feats> @@prescriberFeats;\n",
    "  Start = {SubSpecialty.*};\n",
    "  res = SELECT s \n",
    "        FROM Start:s -(subspecialty_prescriber)-> Prescriber:p\n",
    "        ACCUM @@prescriberFeats += (p -> feats(s, p.communityId, p.pageRank, p.articleRank));\n",
    "  PRINT @@prescriberFeats;\n",
    "}\n",
    "'''\n",
    "\n",
    "# Uncomment the line below if there is already a getPrescriberFeats query installed\n",
    "# print(conn.gsql(\"USE GRAPH MyGraph\\nDROP QUERY getPrescriberFeats\\n\"))\n",
    "print(conn.gsql(\"USE GRAPH MyGraph\\n\"+ getPrescriberFeats + \"\\n INSTALL QUERY getPrescriberFeats\"))"
   ]
  },
  {
   "cell_type": "code",
   "execution_count": 43,
   "metadata": {
    "id": "S5McEuPaHxc3"
   },
   "outputs": [],
   "source": [
    "import pandas as pd\n",
    "\n",
    "providerFeats = pd.DataFrame(conn.runInstalledQuery(\"getPrescriberFeats\")[0][\"@@prescriberFeats\"]).T"
   ]
  },
  {
   "cell_type": "code",
   "execution_count": 44,
   "metadata": {
    "id": "ahRKv5irIUJW"
   },
   "outputs": [],
   "source": [
    "providerFeats = providerFeats.reset_index().rename({\"index\": \"provider\"}, axis=\"columns\")\n",
    "providerFeats[\"pagerank\"] = providerFeats[\"pagerank\"].astype(\"float\")\n",
    "providerFeats[\"articlerank\"] = providerFeats[\"articlerank\"].astype(\"float\")"
   ]
  },
  {
   "cell_type": "code",
   "execution_count": 45,
   "metadata": {
    "colab": {
     "base_uri": "https://localhost:8080/",
     "height": 424
    },
    "id": "sNafmi88O-sj",
    "outputId": "a5a4b229-6b73-4397-9dfe-8511bdc6a502"
   },
   "outputs": [
    {
     "data": {
      "text/html": [
       "<div>\n",
       "<style scoped>\n",
       "    .dataframe tbody tr th:only-of-type {\n",
       "        vertical-align: middle;\n",
       "    }\n",
       "\n",
       "    .dataframe tbody tr th {\n",
       "        vertical-align: top;\n",
       "    }\n",
       "\n",
       "    .dataframe thead th {\n",
       "        text-align: right;\n",
       "    }\n",
       "</style>\n",
       "<table border=\"1\" class=\"dataframe\">\n",
       "  <thead>\n",
       "    <tr style=\"text-align: right;\">\n",
       "      <th></th>\n",
       "      <th>provider</th>\n",
       "      <th>subspecialty</th>\n",
       "      <th>community</th>\n",
       "      <th>pagerank</th>\n",
       "      <th>articlerank</th>\n",
       "    </tr>\n",
       "  </thead>\n",
       "  <tbody>\n",
       "    <tr>\n",
       "      <th>0</th>\n",
       "      <td>pre11</td>\n",
       "      <td>Shoulder Surgery</td>\n",
       "      <td>73400324</td>\n",
       "      <td>0.92374</td>\n",
       "      <td>63002.14063</td>\n",
       "    </tr>\n",
       "    <tr>\n",
       "      <th>1</th>\n",
       "      <td>pre61</td>\n",
       "      <td>Hand Surgery</td>\n",
       "      <td>72351746</td>\n",
       "      <td>2.04001</td>\n",
       "      <td>140422.67188</td>\n",
       "    </tr>\n",
       "    <tr>\n",
       "      <th>2</th>\n",
       "      <td>pre28</td>\n",
       "      <td>Orthopedic Surgery</td>\n",
       "      <td>71303169</td>\n",
       "      <td>0.71966</td>\n",
       "      <td>54603.78906</td>\n",
       "    </tr>\n",
       "    <tr>\n",
       "      <th>3</th>\n",
       "      <td>pre69</td>\n",
       "      <td>Shoulder Surgery</td>\n",
       "      <td>0</td>\n",
       "      <td>2.56451</td>\n",
       "      <td>174932.43750</td>\n",
       "    </tr>\n",
       "    <tr>\n",
       "      <th>4</th>\n",
       "      <td>pre62</td>\n",
       "      <td>Gynecology</td>\n",
       "      <td>71303169</td>\n",
       "      <td>1.44822</td>\n",
       "      <td>122392.43750</td>\n",
       "    </tr>\n",
       "    <tr>\n",
       "      <th>...</th>\n",
       "      <td>...</td>\n",
       "      <td>...</td>\n",
       "      <td>...</td>\n",
       "      <td>...</td>\n",
       "      <td>...</td>\n",
       "    </tr>\n",
       "    <tr>\n",
       "      <th>99</th>\n",
       "      <td>pre8</td>\n",
       "      <td>Cardiac Diagnostic</td>\n",
       "      <td>77594629</td>\n",
       "      <td>0.81836</td>\n",
       "      <td>68093.84375</td>\n",
       "    </tr>\n",
       "    <tr>\n",
       "      <th>100</th>\n",
       "      <td>pre21</td>\n",
       "      <td>Hand Surgery</td>\n",
       "      <td>68157441</td>\n",
       "      <td>0.59617</td>\n",
       "      <td>41530.15625</td>\n",
       "    </tr>\n",
       "    <tr>\n",
       "      <th>101</th>\n",
       "      <td>pre46</td>\n",
       "      <td>Shoulder Surgery</td>\n",
       "      <td>77594629</td>\n",
       "      <td>0.84570</td>\n",
       "      <td>60741.50391</td>\n",
       "    </tr>\n",
       "    <tr>\n",
       "      <th>102</th>\n",
       "      <td>pre26</td>\n",
       "      <td>Cardiac Diagnostic</td>\n",
       "      <td>68157441</td>\n",
       "      <td>0.27119</td>\n",
       "      <td>12418.96582</td>\n",
       "    </tr>\n",
       "    <tr>\n",
       "      <th>103</th>\n",
       "      <td>pre40</td>\n",
       "      <td>Gynecology</td>\n",
       "      <td>0</td>\n",
       "      <td>0.66630</td>\n",
       "      <td>57458.18750</td>\n",
       "    </tr>\n",
       "  </tbody>\n",
       "</table>\n",
       "<p>104 rows × 5 columns</p>\n",
       "</div>"
      ],
      "text/plain": [
       "    provider        subspecialty community  pagerank   articlerank\n",
       "0      pre11    Shoulder Surgery  73400324   0.92374   63002.14063\n",
       "1      pre61        Hand Surgery  72351746   2.04001  140422.67188\n",
       "2      pre28  Orthopedic Surgery  71303169   0.71966   54603.78906\n",
       "3      pre69    Shoulder Surgery         0   2.56451  174932.43750\n",
       "4      pre62          Gynecology  71303169   1.44822  122392.43750\n",
       "..       ...                 ...       ...       ...           ...\n",
       "99      pre8  Cardiac Diagnostic  77594629   0.81836   68093.84375\n",
       "100    pre21        Hand Surgery  68157441   0.59617   41530.15625\n",
       "101    pre46    Shoulder Surgery  77594629   0.84570   60741.50391\n",
       "102    pre26  Cardiac Diagnostic  68157441   0.27119   12418.96582\n",
       "103    pre40          Gynecology         0   0.66630   57458.18750\n",
       "\n",
       "[104 rows x 5 columns]"
      ]
     },
     "execution_count": 45,
     "metadata": {},
     "output_type": "execute_result"
    }
   ],
   "source": [
    "providerFeats"
   ]
  },
  {
   "cell_type": "markdown",
   "metadata": {
    "id": "kSPwUwVtxafS"
   },
   "source": [
    "### Comparing PageRank and Article Rank\n",
    "Let's take a look at the influence that different subspecialties have within the data, and compare the differences in ranking that PageRank and Article Rank produced. We will also look at the frequency of each subspecialty in the graph and how it correlates to the PageRank and ArticleRank scores."
   ]
  },
  {
   "cell_type": "markdown",
   "metadata": {
    "id": "uQ2EMoMw1rg0"
   },
   "source": [
    "#### Plotting Values by Subspecialty"
   ]
  },
  {
   "cell_type": "code",
   "execution_count": 46,
   "metadata": {
    "id": "JU4Abfqyy_oG"
   },
   "outputs": [],
   "source": [
    "subPRMean = providerFeats.groupby('subspecialty', as_index=False)['pagerank'].mean()\n",
    "subARMean = providerFeats.groupby('subspecialty', as_index=False)['articlerank'].mean()"
   ]
  },
  {
   "cell_type": "code",
   "execution_count": 47,
   "metadata": {
    "colab": {
     "base_uri": "https://localhost:8080/",
     "height": 283
    },
    "id": "4F4aSjC0BNc2",
    "outputId": "34cae28f-70b8-4cf9-8ca4-4b388ca460f2"
   },
   "outputs": [
    {
     "data": {
      "text/plain": [
       "<AxesSubplot:ylabel='subspecialty'>"
      ]
     },
     "execution_count": 47,
     "metadata": {},
     "output_type": "execute_result"
    },
    {
     "data": {
      "image/png": "[encoded data removed]",
      "text/plain": [
       "<Figure size 432x288 with 1 Axes>"
      ]
     },
     "metadata": {
      "needs_background": "light"
     },
     "output_type": "display_data"
    }
   ],
   "source": [
    "subPRMean.sort_values(by=\"pagerank\").plot(x=\"subspecialty\", y=\"pagerank\", kind=\"barh\")"
   ]
  },
  {
   "cell_type": "code",
   "execution_count": 48,
   "metadata": {
    "colab": {
     "base_uri": "https://localhost:8080/",
     "height": 283
    },
    "id": "gqRkd6VPRa3i",
    "outputId": "9a3520af-621f-4e6e-bf8e-671f0165c2d3"
   },
   "outputs": [
    {
     "data": {
      "text/plain": [
       "<AxesSubplot:ylabel='subspecialty'>"
      ]
     },
     "execution_count": 48,
     "metadata": {},
     "output_type": "execute_result"
    },
    {
     "data": {
      "image/png": "[encoded data removed]",
      "text/plain": [
       "<Figure size 432x288 with 1 Axes>"
      ]
     },
     "metadata": {
      "needs_background": "light"
     },
     "output_type": "display_data"
    }
   ],
   "source": [
    "subARMean.sort_values(by=\"articlerank\").plot(x=\"subspecialty\", y=\"articlerank\", kind=\"barh\")"
   ]
  },
  {
   "cell_type": "code",
   "execution_count": 49,
   "metadata": {
    "colab": {
     "base_uri": "https://localhost:8080/",
     "height": 283
    },
    "id": "fKNddJQ0wwww",
    "outputId": "798da677-4107-43a2-934f-b746f15f5532"
   },
   "outputs": [
    {
     "data": {
      "text/plain": [
       "<AxesSubplot:>"
      ]
     },
     "execution_count": 49,
     "metadata": {},
     "output_type": "execute_result"
    },
    {
     "data": {
      "image/png": "[encoded data removed]",
      "text/plain": [
       "<Figure size 432x288 with 1 Axes>"
      ]
     },
     "metadata": {
      "needs_background": "light"
     },
     "output_type": "display_data"
    }
   ],
   "source": [
    "providerFeats[\"subspecialty\"].value_counts().plot(kind=\"barh\")"
   ]
  },
  {
   "cell_type": "markdown",
   "metadata": {
    "id": "qNig8ize1W29"
   },
   "source": [
    "#### Correlation between Frequency, PageRank, and Article Rank"
   ]
  },
  {
   "cell_type": "code",
   "execution_count": 50,
   "metadata": {
    "colab": {
     "base_uri": "https://localhost:8080/",
     "height": 614
    },
    "id": "21MWLgIty15L",
    "outputId": "4f8aa52b-e26e-4d31-f84f-84d8d76a4f9c"
   },
   "outputs": [
    {
     "data": {
      "text/html": [
       "<div>\n",
       "<style scoped>\n",
       "    .dataframe tbody tr th:only-of-type {\n",
       "        vertical-align: middle;\n",
       "    }\n",
       "\n",
       "    .dataframe tbody tr th {\n",
       "        vertical-align: top;\n",
       "    }\n",
       "\n",
       "    .dataframe thead th {\n",
       "        text-align: right;\n",
       "    }\n",
       "</style>\n",
       "<table border=\"1\" class=\"dataframe\">\n",
       "  <thead>\n",
       "    <tr style=\"text-align: right;\">\n",
       "      <th></th>\n",
       "      <th>subspecialty</th>\n",
       "      <th>frequency</th>\n",
       "      <th>pagerank</th>\n",
       "      <th>articlerank</th>\n",
       "    </tr>\n",
       "  </thead>\n",
       "  <tbody>\n",
       "    <tr>\n",
       "      <th>0</th>\n",
       "      <td>Obstetrics</td>\n",
       "      <td>12</td>\n",
       "      <td>0.762273</td>\n",
       "      <td>57757.530111</td>\n",
       "    </tr>\n",
       "    <tr>\n",
       "      <th>1</th>\n",
       "      <td>General Practice</td>\n",
       "      <td>8</td>\n",
       "      <td>0.796602</td>\n",
       "      <td>51976.646314</td>\n",
       "    </tr>\n",
       "    <tr>\n",
       "      <th>2</th>\n",
       "      <td>Cardiovascular Disease</td>\n",
       "      <td>8</td>\n",
       "      <td>0.952115</td>\n",
       "      <td>66907.529981</td>\n",
       "    </tr>\n",
       "    <tr>\n",
       "      <th>3</th>\n",
       "      <td>Preventive Medicine</td>\n",
       "      <td>7</td>\n",
       "      <td>0.971496</td>\n",
       "      <td>82537.500559</td>\n",
       "    </tr>\n",
       "    <tr>\n",
       "      <th>4</th>\n",
       "      <td>Family Practice</td>\n",
       "      <td>7</td>\n",
       "      <td>1.269397</td>\n",
       "      <td>76608.576906</td>\n",
       "    </tr>\n",
       "    <tr>\n",
       "      <th>5</th>\n",
       "      <td>Cardiology</td>\n",
       "      <td>7</td>\n",
       "      <td>0.691751</td>\n",
       "      <td>55243.556640</td>\n",
       "    </tr>\n",
       "    <tr>\n",
       "      <th>6</th>\n",
       "      <td>Gynecology</td>\n",
       "      <td>6</td>\n",
       "      <td>1.180877</td>\n",
       "      <td>88035.281250</td>\n",
       "    </tr>\n",
       "    <tr>\n",
       "      <th>7</th>\n",
       "      <td>Hand Surgery</td>\n",
       "      <td>6</td>\n",
       "      <td>1.174620</td>\n",
       "      <td>91165.856120</td>\n",
       "    </tr>\n",
       "    <tr>\n",
       "      <th>8</th>\n",
       "      <td>Clinical Cardiac Electrophysiology</td>\n",
       "      <td>5</td>\n",
       "      <td>0.939042</td>\n",
       "      <td>83533.152346</td>\n",
       "    </tr>\n",
       "    <tr>\n",
       "      <th>9</th>\n",
       "      <td>Back &amp; Spine Surgery</td>\n",
       "      <td>5</td>\n",
       "      <td>1.274378</td>\n",
       "      <td>89559.774220</td>\n",
       "    </tr>\n",
       "    <tr>\n",
       "      <th>10</th>\n",
       "      <td>Cardiac Diagnostic</td>\n",
       "      <td>5</td>\n",
       "      <td>0.747002</td>\n",
       "      <td>52841.904240</td>\n",
       "    </tr>\n",
       "    <tr>\n",
       "      <th>11</th>\n",
       "      <td>Obstetrics &amp; Gynecology</td>\n",
       "      <td>5</td>\n",
       "      <td>0.800202</td>\n",
       "      <td>64443.598440</td>\n",
       "    </tr>\n",
       "    <tr>\n",
       "      <th>12</th>\n",
       "      <td>Sports Medicine</td>\n",
       "      <td>5</td>\n",
       "      <td>0.848376</td>\n",
       "      <td>64841.523440</td>\n",
       "    </tr>\n",
       "    <tr>\n",
       "      <th>13</th>\n",
       "      <td>Interventional Cardiology</td>\n",
       "      <td>5</td>\n",
       "      <td>0.911674</td>\n",
       "      <td>68115.333908</td>\n",
       "    </tr>\n",
       "    <tr>\n",
       "      <th>14</th>\n",
       "      <td>Shoulder Surgery</td>\n",
       "      <td>4</td>\n",
       "      <td>1.254237</td>\n",
       "      <td>84289.651370</td>\n",
       "    </tr>\n",
       "    <tr>\n",
       "      <th>15</th>\n",
       "      <td>Neurology Surgery</td>\n",
       "      <td>4</td>\n",
       "      <td>0.801915</td>\n",
       "      <td>59812.607425</td>\n",
       "    </tr>\n",
       "    <tr>\n",
       "      <th>16</th>\n",
       "      <td>Orthopedic Surgery</td>\n",
       "      <td>3</td>\n",
       "      <td>0.581270</td>\n",
       "      <td>40153.044790</td>\n",
       "    </tr>\n",
       "    <tr>\n",
       "      <th>17</th>\n",
       "      <td>Knee Surgery</td>\n",
       "      <td>2</td>\n",
       "      <td>1.554945</td>\n",
       "      <td>121763.066410</td>\n",
       "    </tr>\n",
       "  </tbody>\n",
       "</table>\n",
       "</div>"
      ],
      "text/plain": [
       "                          subspecialty  frequency  pagerank    articlerank\n",
       "0                           Obstetrics         12  0.762273   57757.530111\n",
       "1                     General Practice          8  0.796602   51976.646314\n",
       "2               Cardiovascular Disease          8  0.952115   66907.529981\n",
       "3                  Preventive Medicine          7  0.971496   82537.500559\n",
       "4                      Family Practice          7  1.269397   76608.576906\n",
       "5                           Cardiology          7  0.691751   55243.556640\n",
       "6                           Gynecology          6  1.180877   88035.281250\n",
       "7                         Hand Surgery          6  1.174620   91165.856120\n",
       "8   Clinical Cardiac Electrophysiology          5  0.939042   83533.152346\n",
       "9                 Back & Spine Surgery          5  1.274378   89559.774220\n",
       "10                  Cardiac Diagnostic          5  0.747002   52841.904240\n",
       "11             Obstetrics & Gynecology          5  0.800202   64443.598440\n",
       "12                     Sports Medicine          5  0.848376   64841.523440\n",
       "13           Interventional Cardiology          5  0.911674   68115.333908\n",
       "14                    Shoulder Surgery          4  1.254237   84289.651370\n",
       "15                   Neurology Surgery          4  0.801915   59812.607425\n",
       "16                  Orthopedic Surgery          3  0.581270   40153.044790\n",
       "17                        Knee Surgery          2  1.554945  121763.066410"
      ]
     },
     "execution_count": 50,
     "metadata": {},
     "output_type": "execute_result"
    }
   ],
   "source": [
    "subFreq = pd.DataFrame(providerFeats[\"subspecialty\"].value_counts()).reset_index().rename(columns={\"index\":\"subspecialty\", \"subspecialty\":\"frequency\"})\n",
    "freqPR = subFreq.merge(subPRMean, on=\"subspecialty\")\n",
    "freqPRAR = freqPR.merge(subARMean, on=\"subspecialty\")\n",
    "freqPRAR"
   ]
  },
  {
   "cell_type": "code",
   "execution_count": 51,
   "metadata": {
    "id": "3julMPY40ECb"
   },
   "outputs": [
    {
     "data": {
      "text/html": [
       "<div>\n",
       "<style scoped>\n",
       "    .dataframe tbody tr th:only-of-type {\n",
       "        vertical-align: middle;\n",
       "    }\n",
       "\n",
       "    .dataframe tbody tr th {\n",
       "        vertical-align: top;\n",
       "    }\n",
       "\n",
       "    .dataframe thead th {\n",
       "        text-align: right;\n",
       "    }\n",
       "</style>\n",
       "<table border=\"1\" class=\"dataframe\">\n",
       "  <thead>\n",
       "    <tr style=\"text-align: right;\">\n",
       "      <th></th>\n",
       "      <th>frequency</th>\n",
       "      <th>pagerank</th>\n",
       "      <th>articlerank</th>\n",
       "    </tr>\n",
       "  </thead>\n",
       "  <tbody>\n",
       "    <tr>\n",
       "      <th>frequency</th>\n",
       "      <td>1.000000</td>\n",
       "      <td>-0.276738</td>\n",
       "      <td>-0.314018</td>\n",
       "    </tr>\n",
       "    <tr>\n",
       "      <th>pagerank</th>\n",
       "      <td>-0.276738</td>\n",
       "      <td>1.000000</td>\n",
       "      <td>0.928759</td>\n",
       "    </tr>\n",
       "    <tr>\n",
       "      <th>articlerank</th>\n",
       "      <td>-0.314018</td>\n",
       "      <td>0.928759</td>\n",
       "      <td>1.000000</td>\n",
       "    </tr>\n",
       "  </tbody>\n",
       "</table>\n",
       "</div>"
      ],
      "text/plain": [
       "             frequency  pagerank  articlerank\n",
       "frequency     1.000000 -0.276738    -0.314018\n",
       "pagerank     -0.276738  1.000000     0.928759\n",
       "articlerank  -0.314018  0.928759     1.000000"
      ]
     },
     "execution_count": 51,
     "metadata": {},
     "output_type": "execute_result"
    }
   ],
   "source": [
    "freqPRAR.corr()"
   ]
  },
  {
   "cell_type": "markdown",
   "metadata": {
    "id": "IfBiBn1p2Ay1"
   },
   "source": [
    "We see that PageRank and Article Rank are highly correlated to one another, which makes sense due to their similarity in computing influence. What is interesting is the lack of correlation to how often a subspecialty occurs compared to the average influence of the subspecialty computed by PageRank or Article Rank. This seems to suggest that in this dataset, prescribers do not get more referrals soley because they are in a more unique subspecialty."
   ]
  },
  {
   "cell_type": "markdown",
   "metadata": {
    "id": "ZhJRgu5XyrAg"
   },
   "source": [
    "### Comparing Community Influence\n",
    "Let's take a look at the average influence scores within each community."
   ]
  },
  {
   "cell_type": "code",
   "execution_count": 52,
   "metadata": {
    "id": "UHU1G5ljDtnB"
   },
   "outputs": [],
   "source": [
    "comPRMean = providerFeats.groupby('community', as_index=False)['pagerank'].mean()"
   ]
  },
  {
   "cell_type": "code",
   "execution_count": 53,
   "metadata": {
    "id": "W-IGIkjkI1L5"
   },
   "outputs": [
    {
     "data": {
      "text/plain": [
       "<AxesSubplot:ylabel='community'>"
      ]
     },
     "execution_count": 53,
     "metadata": {},
     "output_type": "execute_result"
    },
    {
     "data": {
      "image/png": "[encoded data removed]",
      "text/plain": [
       "<Figure size 432x288 with 1 Axes>"
      ]
     },
     "metadata": {
      "needs_background": "light"
     },
     "output_type": "display_data"
    }
   ],
   "source": [
    "comPRMean.sort_values(by=\"pagerank\").plot(x=\"community\", y=\"pagerank\", kind=\"barh\")"
   ]
  },
  {
   "cell_type": "code",
   "execution_count": 54,
   "metadata": {
    "id": "wtocbprOTcyV"
   },
   "outputs": [],
   "source": [
    "comARMean = providerFeats.groupby('community', as_index=False)['articlerank'].mean()"
   ]
  },
  {
   "cell_type": "code",
   "execution_count": 55,
   "metadata": {
    "id": "0et_hHd9TlNB"
   },
   "outputs": [
    {
     "data": {
      "text/plain": [
       "<AxesSubplot:ylabel='community'>"
      ]
     },
     "execution_count": 55,
     "metadata": {},
     "output_type": "execute_result"
    },
    {
     "data": {
      "image/png": "[encoded data removed]",
      "text/plain": [
       "<Figure size 432x288 with 1 Axes>"
      ]
     },
     "metadata": {
      "needs_background": "light"
     },
     "output_type": "display_data"
    }
   ],
   "source": [
    "comARMean.sort_values(by=\"articlerank\").plot(x=\"community\", y=\"articlerank\", kind=\"barh\")"
   ]
  },
  {
   "cell_type": "markdown",
   "metadata": {
    "id": "7Qr3u2r06xID"
   },
   "source": [
    "### Subspecialty Occurence within Communities\n",
    "Let's take a look at the distribution of subspecialties within communities."
   ]
  },
  {
   "cell_type": "code",
   "execution_count": 56,
   "metadata": {
    "id": "hYuL7lSJEV1T"
   },
   "outputs": [],
   "source": [
    "comSubSpecialty = providerFeats.groupby([\"community\"], as_index=False)"
   ]
  },
  {
   "cell_type": "code",
   "execution_count": 57,
   "metadata": {
    "id": "cVyxWDD-Hawi"
   },
   "outputs": [
    {
     "name": "stdout",
     "output_type": "stream",
     "text": [
      "Community: 0\n",
      "Family Practice           2\n",
      "Sports Medicine           2\n",
      "Obstetrics                2\n",
      "Shoulder Surgery          1\n",
      "Preventive Medicine       1\n",
      "Back & Spine Surgery      1\n",
      "General Practice          1\n",
      "Cardiovascular Disease    1\n",
      "Knee Surgery              1\n",
      "Orthopedic Surgery        1\n",
      "Cardiology                1\n",
      "Gynecology                1\n",
      "Name: subspecialty, dtype: int64 \n",
      "\n",
      "\n",
      "Community: 68157440\n",
      "Interventional Cardiology             2\n",
      "Cardiovascular Disease                2\n",
      "Obstetrics                            2\n",
      "Cardiac Diagnostic                    1\n",
      "Clinical Cardiac Electrophysiology    1\n",
      "General Practice                      1\n",
      "Family Practice                       1\n",
      "Knee Surgery                          1\n",
      "Preventive Medicine                   1\n",
      "Orthopedic Surgery                    1\n",
      "Neurology Surgery                     1\n",
      "Hand Surgery                          1\n",
      "Name: subspecialty, dtype: int64 \n",
      "\n",
      "\n",
      "Community: 68157441\n",
      "General Practice          1\n",
      "Cardiology                1\n",
      "Cardiovascular Disease    1\n",
      "Obstetrics                1\n",
      "Hand Surgery              1\n",
      "Cardiac Diagnostic        1\n",
      "Name: subspecialty, dtype: int64 \n",
      "\n",
      "\n",
      "Community: 71303169\n",
      "Family Practice              3\n",
      "Gynecology                   2\n",
      "Orthopedic Surgery           1\n",
      "Sports Medicine              1\n",
      "Preventive Medicine          1\n",
      "General Practice             1\n",
      "Interventional Cardiology    1\n",
      "Obstetrics                   1\n",
      "Obstetrics & Gynecology      1\n",
      "Neurology Surgery            1\n",
      "Name: subspecialty, dtype: int64 \n",
      "\n",
      "\n",
      "Community: 72351746\n",
      "Back & Spine Surgery         3\n",
      "Cardiology                   2\n",
      "General Practice             2\n",
      "Obstetrics                   2\n",
      "Hand Surgery                 1\n",
      "Cardiac Diagnostic           1\n",
      "Shoulder Surgery             1\n",
      "Preventive Medicine          1\n",
      "Interventional Cardiology    1\n",
      "Family Practice              1\n",
      "Name: subspecialty, dtype: int64 \n",
      "\n",
      "\n",
      "Community: 73400324\n",
      "Cardiovascular Disease                3\n",
      "Obstetrics                            2\n",
      "Preventive Medicine                   2\n",
      "Clinical Cardiac Electrophysiology    2\n",
      "Shoulder Surgery                      1\n",
      "Cardiology                            1\n",
      "Name: subspecialty, dtype: int64 \n",
      "\n",
      "\n",
      "Community: 75497473\n",
      "Clinical Cardiac Electrophysiology    2\n",
      "Obstetrics & Gynecology               1\n",
      "Cardiology                            1\n",
      "Gynecology                            1\n",
      "Hand Surgery                          1\n",
      "Name: subspecialty, dtype: int64 \n",
      "\n",
      "\n",
      "Community: 77594629\n",
      "Obstetrics & Gynecology      3\n",
      "General Practice             2\n",
      "Sports Medicine              2\n",
      "Neurology Surgery            2\n",
      "Obstetrics                   2\n",
      "Hand Surgery                 2\n",
      "Gynecology                   2\n",
      "Cardiac Diagnostic           2\n",
      "Cardiovascular Disease       1\n",
      "Cardiology                   1\n",
      "Preventive Medicine          1\n",
      "Interventional Cardiology    1\n",
      "Back & Spine Surgery         1\n",
      "Shoulder Surgery             1\n",
      "Name: subspecialty, dtype: int64 \n",
      "\n",
      "\n"
     ]
    }
   ],
   "source": [
    "for key, item in comSubSpecialty:\n",
    "    print(\"Community:\", key)\n",
    "    print(comSubSpecialty.get_group(key)[\"subspecialty\"].value_counts(), \"\\n\\n\")"
   ]
  },
  {
   "cell_type": "markdown",
   "metadata": {
    "id": "RVK_9XMLE5dg"
   },
   "source": [
    "It looks as though subspecialties are relatively evenly distributed throughout each community, with Family Practice or General Practice physicians present in just about every community. This makes sense within our dataset, as usually these physicians are the ones that refer patients to a more specific physician."
   ]
  },
  {
   "cell_type": "markdown",
   "metadata": {
    "id": "3eTloTM3FbCe"
   },
   "source": [
    "## Conclusion\n",
    "This notebook ran through various different algorithms found in the TigerGraph In-Database Graph Data Science Library, found here: https://github.com/tigergraph/gsql-graph-algorithms. Please reach out with any questions, either on the community site at https://community.tigergraph.com/, or the Discord server here: https://discord.gg/vFbmPyvJJN."
   ]
  },
  {
   "cell_type": "code",
   "execution_count": null,
   "metadata": {
    "id": "fcl7qn_gOLuN"
   },
   "outputs": [],
   "source": []
  }
 ],
 "metadata": {
  "colab": {
   "collapsed_sections": [],
   "provenance": []
  },
  "kernelspec": {
   "display_name": "TigerGraph PyTorch",
   "language": "python",
   "name": "python3"
  },
  "language_info": {
   "codemirror_mode": {
    "name": "ipython",
    "version": 3
   },
   "file_extension": ".py",
   "mimetype": "text/x-python",
   "name": "python",
   "nbconvert_exporter": "python",
   "pygments_lexer": "ipython3",
   "version": "3.8.10"
  }
 },
 "nbformat": 4,
 "nbformat_minor": 4
}
